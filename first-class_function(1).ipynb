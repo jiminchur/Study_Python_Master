{
 "cells": [
  {
   "cell_type": "code",
   "execution_count": null,
   "metadata": {},
   "outputs": [],
   "source": [
    "# 일급함수 (일급 객체)\n",
    "# 1. 런타임 초기화\n",
    "# 2. 변수 할당 가능\n",
    "# 3. 함수 인수 전달 가능\n",
    "# 4. 함수 결과 반환 가능"
   ]
  },
  {
   "cell_type": "code",
   "execution_count": 6,
   "metadata": {},
   "outputs": [],
   "source": [
    "# 함수 객체\n",
    "def factorial(n):\n",
    "    '''\n",
    "    Factorial Funtion -> n : int\n",
    "                        ->  n! = n*(n-1)* ... *1\n",
    "    '''\n",
    "    if n == 1 : # n < 2\n",
    "        return 1\n",
    "    return n * factorial(n-1)"
   ]
  },
  {
   "cell_type": "code",
   "execution_count": 3,
   "metadata": {},
   "outputs": [],
   "source": [
    "class A:\n",
    "    pass"
   ]
  },
  {
   "cell_type": "code",
   "execution_count": 7,
   "metadata": {},
   "outputs": [
    {
     "name": "stdout",
     "output_type": "stream",
     "text": [
      "720\n",
      "\n",
      "    Factorial Funtion -> n : int\n",
      "                        ->  n! = n*(n-1)* ... *1\n",
      "    \n",
      "<class 'function'> <class 'type'>\n",
      "{'__builtins__', '__code__', '__defaults__', '__name__', '__globals__', '__qualname__', '__kwdefaults__', '__closure__', '__get__', '__call__', '__annotations__'}\n",
      "factorial\n",
      "<code object factorial at 0x10342be30, file \"/var/folders/x_/f90km48x06x0wtfpr0xmjvxc0000gn/T/ipykernel_82144/2958616455.py\", line 2>\n"
     ]
    }
   ],
   "source": [
    "print(factorial(6))\n",
    "print(factorial.__doc__)\n",
    "print(type(factorial), type(A))\n",
    "print(set(sorted(dir(factorial))) - set(sorted(dir(A))))\n",
    "print(factorial.__name__)\n",
    "print(factorial.__code__)"
   ]
  },
  {
   "cell_type": "code",
   "execution_count": 8,
   "metadata": {},
   "outputs": [],
   "source": [
    "# 변수 할당\n",
    "var_func = factorial"
   ]
  },
  {
   "cell_type": "code",
   "execution_count": 9,
   "metadata": {},
   "outputs": [
    {
     "name": "stdout",
     "output_type": "stream",
     "text": [
      "<function factorial at 0x1036162a0>\n",
      "3628800\n"
     ]
    }
   ],
   "source": [
    "print(var_func)\n",
    "print(var_func(10))"
   ]
  },
  {
   "cell_type": "code",
   "execution_count": 10,
   "metadata": {},
   "outputs": [
    {
     "name": "stdout",
     "output_type": "stream",
     "text": [
      "<map object at 0x103619960>\n",
      "<map object at 0x10361a140>\n"
     ]
    }
   ],
   "source": [
    "print(map(var_func,range(1,11)))\n",
    "print(map(factorial,range(1,11)))"
   ]
  },
  {
   "cell_type": "code",
   "execution_count": 11,
   "metadata": {},
   "outputs": [
    {
     "name": "stdout",
     "output_type": "stream",
     "text": [
      "[1, 2, 6, 24, 120, 720, 5040, 40320, 362880, 3628800]\n",
      "[1, 2, 6, 24, 120, 720, 5040, 40320, 362880, 3628800]\n"
     ]
    }
   ],
   "source": [
    "print(list(map(var_func,range(1,11))))\n",
    "print(list(map(factorial,range(1,11))))"
   ]
  },
  {
   "cell_type": "code",
   "execution_count": 12,
   "metadata": {},
   "outputs": [
    {
     "name": "stdout",
     "output_type": "stream",
     "text": [
      "[1, 6, 120]\n",
      "[1, 6, 120]\n"
     ]
    }
   ],
   "source": [
    "\n",
    "# 함수 인수 전달 및 함수로 결과 반환 -> 고위 함수(Higher-order function)\n",
    "# map, filter, reduce 등\n",
    "print(list(map(var_func, filter(lambda x: x % 2, range(1,6)))))\n",
    "print([var_func(i) for i in range(1,6) if i % 2])"
   ]
  },
  {
   "cell_type": "code",
   "execution_count": 13,
   "metadata": {},
   "outputs": [
    {
     "name": "stdout",
     "output_type": "stream",
     "text": [
      "55\n",
      "55\n"
     ]
    }
   ],
   "source": [
    "# reduce()\n",
    "from functools import reduce\n",
    "from operator import add\n",
    "\n",
    "print(reduce(add, range(1,11))) # 누적\n",
    "print(sum(range(1,11)))"
   ]
  },
  {
   "cell_type": "code",
   "execution_count": 14,
   "metadata": {},
   "outputs": [
    {
     "name": "stdout",
     "output_type": "stream",
     "text": [
      "55\n"
     ]
    }
   ],
   "source": [
    "# 익명함수(lambda)\n",
    "# 가급적 주석 작성\n",
    "# 가급적 함수 사용\n",
    "# 일반 함수 형태로 리팩토링 권장\n",
    "print(reduce(lambda x, t: x + t, range(1,11)))"
   ]
  },
  {
   "cell_type": "code",
   "execution_count": 15,
   "metadata": {},
   "outputs": [
    {
     "name": "stdout",
     "output_type": "stream",
     "text": [
      "True True True False\n"
     ]
    }
   ],
   "source": [
    "# Callable : 호출 연산자 -> 메소드 형태로 호출 가능한지 확인\n",
    "# 호출 가능 확인\n",
    "print(callable(str), callable(list), callable(var_func), callable(3.14))"
   ]
  },
  {
   "cell_type": "code",
   "execution_count": 16,
   "metadata": {},
   "outputs": [
    {
     "name": "stdout",
     "output_type": "stream",
     "text": [
      "(n)\n",
      "OrderedDict([('n', <Parameter \"n\">)])\n"
     ]
    }
   ],
   "source": [
    "from inspect import signature\n",
    "\n",
    "sg = signature(var_func)\n",
    "\n",
    "print(sg)\n",
    "print(sg.parameters)"
   ]
  },
  {
   "cell_type": "code",
   "execution_count": 17,
   "metadata": {},
   "outputs": [
    {
     "name": "stdout",
     "output_type": "stream",
     "text": [
      "100\n",
      "50\n",
      "30\n",
      "[5, 10, 15, 20, 25, 30, 35, 40, 45, 50]\n",
      "[5, 10, 15, 20, 25, 30, 35, 40, 45, 50]\n"
     ]
    }
   ],
   "source": [
    "# partial 사용법 : 인수 고정 -> 콜백 함수에 사용\n",
    "from operator import mul\n",
    "from functools import partial\n",
    "\n",
    "print(mul(10,10))\n",
    "\n",
    "# 인수 고정\n",
    "five = partial(mul, 5)\n",
    "\n",
    "# 고정 추가\n",
    "six = partial(five, 6)\n",
    "\n",
    "print(five(10))\n",
    "print(six())\n",
    "print([five(i) for i in range(1,11)])\n",
    "print(list(map(five, range(1,11))))"
   ]
  },
  {
   "cell_type": "code",
   "execution_count": null,
   "metadata": {},
   "outputs": [],
   "source": []
  }
 ],
 "metadata": {
  "kernelspec": {
   "display_name": "Python 3",
   "language": "python",
   "name": "python3"
  },
  "language_info": {
   "codemirror_mode": {
    "name": "ipython",
    "version": 3
   },
   "file_extension": ".py",
   "mimetype": "text/x-python",
   "name": "python",
   "nbconvert_exporter": "python",
   "pygments_lexer": "ipython3",
   "version": "3.11.8"
  }
 },
 "nbformat": 4,
 "nbformat_minor": 2
}
