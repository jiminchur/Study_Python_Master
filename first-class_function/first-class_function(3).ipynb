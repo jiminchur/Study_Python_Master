{
 "cells": [
  {
   "cell_type": "code",
   "execution_count": 1,
   "metadata": {},
   "outputs": [],
   "source": [
    "# 클로저(Closure) 사용\n",
    "def closure_ex1():\n",
    "    # Free variable\n",
    "    series = []\n",
    "    # 클로저 영역\n",
    "    def averager(v):\n",
    "        # series = [] # 주석 해제 후 확인\n",
    "        series.append(v)\n",
    "        print('inner >>> {} / {}'.format(series, len(series)))\n",
    "        return sum(series) / len(series)\n",
    "    \n",
    "    return averager"
   ]
  },
  {
   "cell_type": "code",
   "execution_count": 2,
   "metadata": {},
   "outputs": [
    {
     "name": "stdout",
     "output_type": "stream",
     "text": [
      "inner >>> [15] / 1\n",
      "15.0\n",
      "inner >>> [15, 35] / 2\n",
      "25.0\n",
      "inner >>> [15, 35, 40] / 3\n",
      "30.0\n"
     ]
    }
   ],
   "source": [
    "avg_closure1 = closure_ex1()\n",
    "\n",
    "print(avg_closure1(15))\n",
    "print(avg_closure1(35))\n",
    "print(avg_closure1(40))"
   ]
  },
  {
   "cell_type": "code",
   "execution_count": 3,
   "metadata": {},
   "outputs": [
    {
     "name": "stdout",
     "output_type": "stream",
     "text": [
      "['__annotations__', '__builtins__', '__call__', '__class__', '__closure__', '__code__', '__defaults__', '__delattr__', '__dict__', '__dir__', '__doc__', '__eq__', '__format__', '__ge__', '__get__', '__getattribute__', '__getstate__', '__globals__', '__gt__', '__hash__', '__init__', '__init_subclass__', '__kwdefaults__', '__le__', '__lt__', '__module__', '__name__', '__ne__', '__new__', '__qualname__', '__reduce__', '__reduce_ex__', '__repr__', '__setattr__', '__sizeof__', '__str__', '__subclasshook__']\n",
      "\n",
      "['__class__', '__delattr__', '__dir__', '__doc__', '__eq__', '__format__', '__ge__', '__getattribute__', '__getstate__', '__gt__', '__hash__', '__init__', '__init_subclass__', '__le__', '__lt__', '__ne__', '__new__', '__reduce__', '__reduce_ex__', '__repr__', '__setattr__', '__sizeof__', '__str__', '__subclasshook__', '_co_code_adaptive', '_varname_from_oparg', 'co_argcount', 'co_cellvars', 'co_code', 'co_consts', 'co_exceptiontable', 'co_filename', 'co_firstlineno', 'co_flags', 'co_freevars', 'co_kwonlyargcount', 'co_lines', 'co_linetable', 'co_lnotab', 'co_name', 'co_names', 'co_nlocals', 'co_positions', 'co_posonlyargcount', 'co_qualname', 'co_stacksize', 'co_varnames', 'replace']\n",
      "\n",
      "('series',)\n",
      "\n",
      "['__class__', '__delattr__', '__dir__', '__doc__', '__eq__', '__format__', '__ge__', '__getattribute__', '__getstate__', '__gt__', '__hash__', '__init__', '__init_subclass__', '__le__', '__lt__', '__ne__', '__new__', '__reduce__', '__reduce_ex__', '__repr__', '__setattr__', '__sizeof__', '__str__', '__subclasshook__', 'cell_contents']\n",
      "\n",
      "[15, 35, 40]\n"
     ]
    }
   ],
   "source": [
    "# function inspection\n",
    "\n",
    "print(dir(avg_closure1))\n",
    "print()\n",
    "print(dir(avg_closure1.__code__))\n",
    "print()\n",
    "print(avg_closure1.__code__.co_freevars)\n",
    "print()\n",
    "print(dir(avg_closure1.__closure__[0]))\n",
    "print()\n",
    "print(avg_closure1.__closure__[0].cell_contents)"
   ]
  },
  {
   "cell_type": "code",
   "execution_count": 4,
   "metadata": {},
   "outputs": [],
   "source": [
    "# 잘못된 클로저 사용\n",
    "def closure_ex2():\n",
    "    # Free variable\n",
    "    cnt = 0\n",
    "    total = 0\n",
    "\n",
    "    def averager(v):\n",
    "        cnt += 1 # cnt = cnt + 1\n",
    "        total += v\n",
    "        return total / cnt\n",
    "    \n",
    "    return averager\n",
    "\n",
    "avg_closure2 = closure_ex2()"
   ]
  },
  {
   "cell_type": "code",
   "execution_count": 5,
   "metadata": {},
   "outputs": [
    {
     "ename": "UnboundLocalError",
     "evalue": "cannot access local variable 'cnt' where it is not associated with a value",
     "output_type": "error",
     "traceback": [
      "\u001b[0;31m---------------------------------------------------------------------------\u001b[0m",
      "\u001b[0;31mUnboundLocalError\u001b[0m                         Traceback (most recent call last)",
      "\u001b[1;32m/Users/jimincheol/python/Study_Python_Master/first-class_function(3).ipynb Cell 5\u001b[0m line \u001b[0;36m1\n\u001b[0;32m----> <a href='vscode-notebook-cell:/Users/jimincheol/python/Study_Python_Master/first-class_function%283%29.ipynb#X20sZmlsZQ%3D%3D?line=0'>1</a>\u001b[0m \u001b[39mprint\u001b[39m(avg_closure2(\u001b[39m15\u001b[39;49m)) \u001b[39m# 예외\u001b[39;00m\n",
      "\u001b[1;32m/Users/jimincheol/python/Study_Python_Master/first-class_function(3).ipynb Cell 5\u001b[0m line \u001b[0;36m8\n\u001b[1;32m      <a href='vscode-notebook-cell:/Users/jimincheol/python/Study_Python_Master/first-class_function%283%29.ipynb#X20sZmlsZQ%3D%3D?line=6'>7</a>\u001b[0m \u001b[39mdef\u001b[39;00m\u001b[39m \u001b[39m\u001b[39maverager\u001b[39m(v):\n\u001b[0;32m----> <a href='vscode-notebook-cell:/Users/jimincheol/python/Study_Python_Master/first-class_function%283%29.ipynb#X20sZmlsZQ%3D%3D?line=7'>8</a>\u001b[0m     cnt \u001b[39m+\u001b[39m\u001b[39m=\u001b[39m \u001b[39m1\u001b[39m \u001b[39m# cnt = cnt + 1\u001b[39;00m\n\u001b[1;32m      <a href='vscode-notebook-cell:/Users/jimincheol/python/Study_Python_Master/first-class_function%283%29.ipynb#X20sZmlsZQ%3D%3D?line=8'>9</a>\u001b[0m     total \u001b[39m+\u001b[39m\u001b[39m=\u001b[39m v\n\u001b[1;32m     <a href='vscode-notebook-cell:/Users/jimincheol/python/Study_Python_Master/first-class_function%283%29.ipynb#X20sZmlsZQ%3D%3D?line=9'>10</a>\u001b[0m     \u001b[39mreturn\u001b[39;00m total \u001b[39m/\u001b[39m cnt\n",
      "\u001b[0;31mUnboundLocalError\u001b[0m: cannot access local variable 'cnt' where it is not associated with a value"
     ]
    }
   ],
   "source": [
    "print(avg_closure2(15)) # 예외"
   ]
  },
  {
   "cell_type": "code",
   "execution_count": 6,
   "metadata": {},
   "outputs": [],
   "source": [
    "# Nonlocal -> Free variable\n",
    "def closure_ex3():\n",
    "    # Free variable\n",
    "    cnt = 0\n",
    "    total = 0\n",
    "    \n",
    "    def averager(v):\n",
    "        nonlocal cnt, total\n",
    "        cnt += 1\n",
    "        total += v\n",
    "        return total / cnt\n",
    "    \n",
    "    return averager"
   ]
  },
  {
   "cell_type": "code",
   "execution_count": 7,
   "metadata": {},
   "outputs": [
    {
     "name": "stdout",
     "output_type": "stream",
     "text": [
      "15.0\n",
      "25.0\n",
      "30.0\n"
     ]
    }
   ],
   "source": [
    "avg_closure3 = closure_ex3()\n",
    "\n",
    "print(avg_closure3(15))\n",
    "print(avg_closure3(35))\n",
    "print(avg_closure3(40))"
   ]
  },
  {
   "cell_type": "code",
   "execution_count": null,
   "metadata": {},
   "outputs": [],
   "source": []
  }
 ],
 "metadata": {
  "kernelspec": {
   "display_name": "Python 3",
   "language": "python",
   "name": "python3"
  },
  "language_info": {
   "codemirror_mode": {
    "name": "ipython",
    "version": 3
   },
   "file_extension": ".py",
   "mimetype": "text/x-python",
   "name": "python",
   "nbconvert_exporter": "python",
   "pygments_lexer": "ipython3",
   "version": "3.11.8"
  }
 },
 "nbformat": 4,
 "nbformat_minor": 2
}
