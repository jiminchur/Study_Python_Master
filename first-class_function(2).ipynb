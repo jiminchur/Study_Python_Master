{
 "cells": [
  {
   "cell_type": "code",
   "execution_count": 1,
   "metadata": {},
   "outputs": [],
   "source": [
    "# 파이썬 변수 범위\n",
    "\n",
    "# ex\n",
    "def func_v1(a):\n",
    "    print(a)\n",
    "    print(b)"
   ]
  },
  {
   "cell_type": "code",
   "execution_count": 2,
   "metadata": {},
   "outputs": [
    {
     "name": "stdout",
     "output_type": "stream",
     "text": [
      "10\n"
     ]
    },
    {
     "ename": "NameError",
     "evalue": "name 'b' is not defined",
     "output_type": "error",
     "traceback": [
      "\u001b[0;31m---------------------------------------------------------------------------\u001b[0m",
      "\u001b[0;31mNameError\u001b[0m                                 Traceback (most recent call last)",
      "\u001b[1;32m/Users/jimincheol/python/Study_Python_Master/first-class_function(2).ipynb Cell 2\u001b[0m line \u001b[0;36m2\n\u001b[1;32m      <a href='vscode-notebook-cell:/Users/jimincheol/python/Study_Python_Master/first-class_function%282%29.ipynb#X23sZmlsZQ%3D%3D?line=0'>1</a>\u001b[0m \u001b[39m# 예외\u001b[39;00m\n\u001b[0;32m----> <a href='vscode-notebook-cell:/Users/jimincheol/python/Study_Python_Master/first-class_function%282%29.ipynb#X23sZmlsZQ%3D%3D?line=1'>2</a>\u001b[0m func_v1(\u001b[39m10\u001b[39;49m)\n",
      "\u001b[1;32m/Users/jimincheol/python/Study_Python_Master/first-class_function(2).ipynb Cell 2\u001b[0m line \u001b[0;36m6\n\u001b[1;32m      <a href='vscode-notebook-cell:/Users/jimincheol/python/Study_Python_Master/first-class_function%282%29.ipynb#X23sZmlsZQ%3D%3D?line=3'>4</a>\u001b[0m \u001b[39mdef\u001b[39;00m\u001b[39m \u001b[39m\u001b[39mfunc_v1\u001b[39m(a):\n\u001b[1;32m      <a href='vscode-notebook-cell:/Users/jimincheol/python/Study_Python_Master/first-class_function%282%29.ipynb#X23sZmlsZQ%3D%3D?line=4'>5</a>\u001b[0m     \u001b[39mprint\u001b[39m(a)\n\u001b[0;32m----> <a href='vscode-notebook-cell:/Users/jimincheol/python/Study_Python_Master/first-class_function%282%29.ipynb#X23sZmlsZQ%3D%3D?line=5'>6</a>\u001b[0m     \u001b[39mprint\u001b[39m(b)\n",
      "\u001b[0;31mNameError\u001b[0m: name 'b' is not defined"
     ]
    }
   ],
   "source": [
    "# 예외\n",
    "func_v1(10)"
   ]
  },
  {
   "cell_type": "code",
   "execution_count": 3,
   "metadata": {},
   "outputs": [],
   "source": [
    "b = 20"
   ]
  },
  {
   "cell_type": "code",
   "execution_count": 4,
   "metadata": {},
   "outputs": [
    {
     "name": "stdout",
     "output_type": "stream",
     "text": [
      "10\n",
      "20\n"
     ]
    }
   ],
   "source": [
    "func_v1(10)"
   ]
  },
  {
   "cell_type": "code",
   "execution_count": 5,
   "metadata": {},
   "outputs": [
    {
     "name": "stdout",
     "output_type": "stream",
     "text": [
      "10\n",
      "20\n"
     ]
    }
   ],
   "source": [
    "# Ex2\n",
    "b = 20\n",
    "\n",
    "def func_v2(a):\n",
    "    print(a)\n",
    "    print(b)\n",
    "\n",
    "func_v2(10)"
   ]
  },
  {
   "cell_type": "code",
   "execution_count": 6,
   "metadata": {},
   "outputs": [],
   "source": [
    "# Ex3\n",
    "\n",
    "c = 30\n",
    "\n",
    "def func_v3(a):\n",
    "    global c\n",
    "    print(a)\n",
    "    print(c)\n",
    "    c = 40"
   ]
  },
  {
   "cell_type": "code",
   "execution_count": 7,
   "metadata": {},
   "outputs": [
    {
     "name": "stdout",
     "output_type": "stream",
     "text": [
      ">> 30\n",
      "10\n",
      "30\n",
      ">>> 40\n"
     ]
    }
   ],
   "source": [
    "print('>>',c)\n",
    "func_v3(10)\n",
    "print('>>>',c)"
   ]
  },
  {
   "cell_type": "code",
   "execution_count": 8,
   "metadata": {},
   "outputs": [
    {
     "name": "stdout",
     "output_type": "stream",
     "text": [
      "  5           0 RESUME                   0\n",
      "\n",
      "  7           2 LOAD_GLOBAL              1 (NULL + print)\n",
      "             14 LOAD_FAST                0 (a)\n",
      "             16 PRECALL                  1\n",
      "             20 CALL                     1\n",
      "             30 POP_TOP\n",
      "\n",
      "  8          32 LOAD_GLOBAL              1 (NULL + print)\n",
      "             44 LOAD_GLOBAL              2 (c)\n",
      "             56 PRECALL                  1\n",
      "             60 CALL                     1\n",
      "             70 POP_TOP\n",
      "\n",
      "  9          72 LOAD_CONST               1 (40)\n",
      "             74 STORE_GLOBAL             1 (c)\n",
      "             76 LOAD_CONST               0 (None)\n",
      "             78 RETURN_VALUE\n",
      "None\n"
     ]
    }
   ],
   "source": [
    "from dis import dis\n",
    "\n",
    "print(dis(func_v3))"
   ]
  },
  {
   "cell_type": "code",
   "execution_count": 9,
   "metadata": {},
   "outputs": [
    {
     "name": "stdout",
     "output_type": "stream",
     "text": [
      "200\n",
      "1100\n",
      "1275\n",
      "3775\n"
     ]
    }
   ],
   "source": [
    "# Closure(클로저) 사용 이유\n",
    "# 서버 프로그래밍 -> 동시성(Concurrency)제어 -> 메모리 공간에 여러 자원이 접근 -> 교착상태(Dead Lock)\n",
    "# 메모리를 공유하지 않고 메시지 전달로 처리하기 위한 -> Erlang\n",
    "# 클로저는 공유하되 변경되지 않는(Immutable, Read Only) 적극적으로 사용 -> 함수형 프로그래밍\n",
    "# 클로저는 불변자료구조 및 atom, STM -> 멀티스레드(Coroutine) 프로그래밍에 강점\n",
    "a = 100\n",
    "\n",
    "print(a + 100)\n",
    "print(a + 1000)\n",
    "\n",
    "# 결과 누적(함수 사용)\n",
    "print(sum(range(1,51)))\n",
    "print(sum(range(51,101)))"
   ]
  },
  {
   "cell_type": "code",
   "execution_count": 10,
   "metadata": {},
   "outputs": [],
   "source": [
    "# 클래스 이용\n",
    "class Averager():\n",
    "    def __init__(self):\n",
    "        self._series = []\n",
    "\n",
    "    def __call__(self, v):\n",
    "        self._series.append(v)\n",
    "        print('inner >>> {} / {}'.format(self._series, len(self._series)))\n",
    "        return sum(self._series) / len(self._series)"
   ]
  },
  {
   "cell_type": "code",
   "execution_count": 11,
   "metadata": {},
   "outputs": [
    {
     "name": "stdout",
     "output_type": "stream",
     "text": [
      "inner >>> [15] / 1\n",
      "15.0\n",
      "inner >>> [15, 35] / 2\n",
      "25.0\n",
      "inner >>> [15, 35, 40] / 3\n",
      "30.0\n"
     ]
    }
   ],
   "source": [
    "# 인스턴스 생성\n",
    "averager_cls = Averager()\n",
    "\n",
    "# 누적\n",
    "print(averager_cls(15))\n",
    "print(averager_cls(35))\n",
    "print(averager_cls(40))"
   ]
  }
 ],
 "metadata": {
  "kernelspec": {
   "display_name": "Python 3",
   "language": "python",
   "name": "python3"
  },
  "language_info": {
   "codemirror_mode": {
    "name": "ipython",
    "version": 3
   },
   "file_extension": ".py",
   "mimetype": "text/x-python",
   "name": "python",
   "nbconvert_exporter": "python",
   "pygments_lexer": "ipython3",
   "version": "3.11.8"
  }
 },
 "nbformat": 4,
 "nbformat_minor": 2
}
