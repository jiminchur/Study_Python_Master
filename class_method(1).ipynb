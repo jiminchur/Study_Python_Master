{
 "cells": [
  {
   "cell_type": "markdown",
   "metadata": {},
   "source": [
    "* 객체 지향 프로그래밍 (OOP) \n",
    "    * 코드의 재사용, 코드 중복방지, 유지보수, 대형 프로젝트\n",
    "* 규모가 큰 프로젝트 (프로그램)\n",
    "    * 함수 중심 -> 데이터 방대 -> 복잡\n",
    "* 클래스 중심 -> 데이터 중심 -> 객체로 관리"
   ]
  },
  {
   "cell_type": "code",
   "execution_count": 2,
   "metadata": {},
   "outputs": [],
   "source": [
    "# 일반적인 코딩\n",
    "# 차량 1\n",
    "car_company_1 = 'ferrari'\n",
    "car_detail_1 = [\n",
    "    {'color' : 'white'},\n",
    "    {'horsepower' : 400},\n",
    "    {'price' : 8000}\n",
    "    ]\n",
    "\n",
    "# 차량 2\n",
    "car_company_2 = 'bmw'\n",
    "car_detail_2 = [\n",
    "    {'color' : 'black'},\n",
    "    {'horsepower' : 270},\n",
    "    {'price' : 5000}\n",
    "    ]\n",
    "\n",
    "# 차량 3\n",
    "car_company_3 = 'audi'\n",
    "car_detail_3 = [\n",
    "    {'color' : 'silver'},\n",
    "    {'horsepower' : 300},\n",
    "    {'price' : 6000}\n",
    "    ]"
   ]
  },
  {
   "cell_type": "code",
   "execution_count": 3,
   "metadata": {},
   "outputs": [],
   "source": [
    "# 리스트 구조\n",
    "# 관리하기가 불편\n",
    "# 인덱스 접근 시 실수 가능성, 삭제 불편\n",
    "car_company_list = ['ferrari','bmw','audi']\n",
    "car_detail_list = [\n",
    "    {'color' : 'white','horsepower' : 400 ,'price' : 8000},\n",
    "    {'color' : 'black','horsepower' : 270,'price' : 5000},\n",
    "    {'color' : 'silver','horsepower' : 300,'price' : 6000}\n",
    "]"
   ]
  },
  {
   "cell_type": "code",
   "execution_count": 4,
   "metadata": {},
   "outputs": [],
   "source": [
    "del car_company_list[1]\n",
    "del car_detail_list[1]"
   ]
  },
  {
   "cell_type": "code",
   "execution_count": 6,
   "metadata": {},
   "outputs": [
    {
     "name": "stdout",
     "output_type": "stream",
     "text": [
      "['ferrari', 'audi']\n",
      "[{'color': 'white', 'horsepower': 400, 'price': 8000}, {'color': 'silver', 'horsepower': 300, 'price': 6000}]\n"
     ]
    }
   ],
   "source": [
    "print(car_company_list)\n",
    "print(car_detail_list)"
   ]
  },
  {
   "cell_type": "code",
   "execution_count": 12,
   "metadata": {},
   "outputs": [],
   "source": [
    "# 딕셔너리 구조\n",
    "# 코드 반복 지속, 중첩 문제(키), 키 조회 예외 처리 등\n",
    "car_dicts = [\n",
    "    {'car_company': 'ferrari', 'car_detail':{'color' : 'white','horsepower' : 400 ,'price' : 8000}},\n",
    "    {'car_company': 'bmw', 'car_detail':{'color' : 'black','horsepower' : 270,'price' : 5000}},\n",
    "    {'car_company': 'audi', 'car_detail':{'color' : 'silver','horsepower' : 300,'price' : 6000}}\n",
    "]"
   ]
  },
  {
   "cell_type": "code",
   "execution_count": 8,
   "metadata": {},
   "outputs": [
    {
     "name": "stdout",
     "output_type": "stream",
     "text": [
      "[{'car_company': 'ferrari', 'car_detail': {'color': 'white', 'horsepower': 400, 'price': 8000}}, {'car_company': 'bmw', 'car_detail': {'color': 'black', 'horsepower': 270, 'price': 5000}}, {'car_company': 'audi', 'car_detail': {'color': 'silver', 'horsepower': 300, 'price': 6000}}]\n"
     ]
    }
   ],
   "source": [
    "print(car_dicts)"
   ]
  },
  {
   "cell_type": "code",
   "execution_count": 13,
   "metadata": {},
   "outputs": [
    {
     "name": "stdout",
     "output_type": "stream",
     "text": [
      "[{'car_company': 'ferrari', 'car_detail': {'color': 'white', 'horsepower': 400, 'price': 8000}}, {'car_company': 'audi', 'car_detail': {'color': 'silver', 'horsepower': 300, 'price': 6000}}]\n"
     ]
    }
   ],
   "source": [
    "del car_dicts[1]\n",
    "print(car_dicts)"
   ]
  },
  {
   "cell_type": "code",
   "execution_count": 26,
   "metadata": {},
   "outputs": [],
   "source": [
    "# 클래스 구조\n",
    "# 구조 설계 후 재사용성 증가, 코드 반복 최소화, 메소드 활용\n",
    "class Car():\n",
    "    def __init__(self, company, details):\n",
    "        self._company = company\n",
    "        self._details = details\n",
    "\n",
    "    # 사용자 레벨\n",
    "    def __str__(self):\n",
    "        return 'str : {} - {}'.format(self._company,self._details)\n",
    "    \n",
    "    # 개발자 레벨\n",
    "    def __repr__(self):\n",
    "        return 'repr : {} - {}'.format(self._company,self._details)\n",
    "\n",
    "car1 = Car('ferrari',{'color' : 'white','horsepower' : 400 ,'price' : 8000})\n",
    "car2 = Car('bmw',{'color' : 'black','horsepower' : 270,'price' : 5000})\n",
    "car3 = Car('audi',{'color' : 'silver','horsepower' : 300,'price' : 6000})"
   ]
  },
  {
   "cell_type": "code",
   "execution_count": 27,
   "metadata": {},
   "outputs": [
    {
     "name": "stdout",
     "output_type": "stream",
     "text": [
      "str : ferrari - {'color': 'white', 'horsepower': 400, 'price': 8000}\n",
      "str : bmw - {'color': 'black', 'horsepower': 270, 'price': 5000}\n",
      "str : audi - {'color': 'silver', 'horsepower': 300, 'price': 6000}\n"
     ]
    }
   ],
   "source": [
    "print(car1)\n",
    "print(car2)\n",
    "print(car3)"
   ]
  },
  {
   "cell_type": "code",
   "execution_count": 28,
   "metadata": {},
   "outputs": [
    {
     "name": "stdout",
     "output_type": "stream",
     "text": [
      "{'_company': 'ferrari', '_details': {'color': 'white', 'horsepower': 400, 'price': 8000}}\n",
      "{'_company': 'bmw', '_details': {'color': 'black', 'horsepower': 270, 'price': 5000}}\n",
      "{'_company': 'audi', '_details': {'color': 'silver', 'horsepower': 300, 'price': 6000}}\n"
     ]
    }
   ],
   "source": [
    "print(car1.__dict__)\n",
    "print(car2.__dict__)\n",
    "print(car3.__dict__)"
   ]
  },
  {
   "cell_type": "code",
   "execution_count": 29,
   "metadata": {},
   "outputs": [
    {
     "name": "stdout",
     "output_type": "stream",
     "text": [
      "['__class__', '__delattr__', '__dict__', '__dir__', '__doc__', '__eq__', '__format__', '__ge__', '__getattribute__', '__getstate__', '__gt__', '__hash__', '__init__', '__init_subclass__', '__le__', '__lt__', '__module__', '__ne__', '__new__', '__reduce__', '__reduce_ex__', '__repr__', '__setattr__', '__sizeof__', '__str__', '__subclasshook__', '__weakref__', '_company', '_details']\n"
     ]
    }
   ],
   "source": [
    "print(dir(car1))"
   ]
  },
  {
   "cell_type": "code",
   "execution_count": 33,
   "metadata": {},
   "outputs": [
    {
     "name": "stdout",
     "output_type": "stream",
     "text": [
      "[repr : ferrari - {'color': 'white', 'horsepower': 400, 'price': 8000}, repr : bmw - {'color': 'black', 'horsepower': 270, 'price': 5000}, repr : audi - {'color': 'silver', 'horsepower': 300, 'price': 6000}]\n"
     ]
    }
   ],
   "source": [
    "# 리스트 선언\n",
    "car_list = []\n",
    "\n",
    "car_list.append(car1)\n",
    "car_list.append(car2)\n",
    "car_list.append(car3)\n",
    "\n",
    "print(car_list)"
   ]
  },
  {
   "cell_type": "code",
   "execution_count": 37,
   "metadata": {},
   "outputs": [
    {
     "name": "stdout",
     "output_type": "stream",
     "text": [
      "----------------------------------------\n",
      "str : ferrari - {'color': 'white', 'horsepower': 400, 'price': 8000}\n",
      "repr : ferrari - {'color': 'white', 'horsepower': 400, 'price': 8000}\n",
      "----------------------------------------\n",
      "str : bmw - {'color': 'black', 'horsepower': 270, 'price': 5000}\n",
      "repr : bmw - {'color': 'black', 'horsepower': 270, 'price': 5000}\n",
      "----------------------------------------\n",
      "str : audi - {'color': 'silver', 'horsepower': 300, 'price': 6000}\n",
      "repr : audi - {'color': 'silver', 'horsepower': 300, 'price': 6000}\n"
     ]
    }
   ],
   "source": [
    "for i in car_list:\n",
    "    print(\"-\"*40)\n",
    "    print(i)\n",
    "    print(repr(i))"
   ]
  }
 ],
 "metadata": {
  "kernelspec": {
   "display_name": "Python 3",
   "language": "python",
   "name": "python3"
  },
  "language_info": {
   "codemirror_mode": {
    "name": "ipython",
    "version": 3
   },
   "file_extension": ".py",
   "mimetype": "text/x-python",
   "name": "python",
   "nbconvert_exporter": "python",
   "pygments_lexer": "ipython3",
   "version": "3.11.8"
  }
 },
 "nbformat": 4,
 "nbformat_minor": 2
}
