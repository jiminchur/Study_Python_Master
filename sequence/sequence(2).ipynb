{
 "cells": [
  {
   "cell_type": "code",
   "execution_count": 10,
   "metadata": {},
   "outputs": [
    {
     "name": "stdout",
     "output_type": "stream",
     "text": [
      "(11, 1)\n",
      "(11, 1)\n",
      "11 1\n"
     ]
    }
   ],
   "source": [
    "# Tuple Advanced\n",
    "# Unpacking\n",
    "\n",
    "# b, a = a, b\n",
    "# divmod는 튜플 (몫, 나머지)를 반환\n",
    "# *는 언팩킹 해주는 기능\n",
    "\n",
    "print(divmod(100, 9))\n",
    "print(divmod(*(100, 9)))\n",
    "print(*(divmod(100, 9)))"
   ]
  },
  {
   "cell_type": "code",
   "execution_count": 11,
   "metadata": {},
   "outputs": [
    {
     "name": "stdout",
     "output_type": "stream",
     "text": [
      "0 1 [2, 3, 4, 5, 6, 7, 8, 9]\n",
      "0 1 []\n",
      "1 2 [3, 4, 5]\n"
     ]
    }
   ],
   "source": [
    "x, y, *rest = range(10)\n",
    "print(x, y, rest)\n",
    "x, y, *rest = range(2)\n",
    "print(x, y, rest)\n",
    "x, y, *rest = 1, 2, 3, 4, 5\n",
    "print(x, y, rest)"
   ]
  },
  {
   "cell_type": "code",
   "execution_count": 12,
   "metadata": {},
   "outputs": [
    {
     "name": "stdout",
     "output_type": "stream",
     "text": [
      "(15, 20, 25) 4350994816\n",
      "[15, 20, 25] 4351330048\n"
     ]
    }
   ],
   "source": [
    "# Mutable(가변) vs Immutable(불변)\n",
    "\n",
    "l = (15, 20, 25)\n",
    "m = [15, 20, 25]\n",
    "\n",
    "print(l, id(l))\n",
    "print(m, id(m))"
   ]
  },
  {
   "cell_type": "code",
   "execution_count": 13,
   "metadata": {},
   "outputs": [
    {
     "name": "stdout",
     "output_type": "stream",
     "text": [
      "4350553984\n",
      "4351147712\n"
     ]
    }
   ],
   "source": [
    "l = l * 2\n",
    "m = m * 2\n",
    "\n",
    "print(id(l))\n",
    "print(id(m))"
   ]
  },
  {
   "cell_type": "code",
   "execution_count": 14,
   "metadata": {},
   "outputs": [
    {
     "name": "stdout",
     "output_type": "stream",
     "text": [
      "4345168656\n",
      "4351147712\n"
     ]
    }
   ],
   "source": [
    "l *= 2\n",
    "m *= 2\n",
    "\n",
    "print(id(l))\n",
    "print(id(m))"
   ]
  },
  {
   "cell_type": "code",
   "execution_count": 15,
   "metadata": {},
   "outputs": [
    {
     "name": "stdout",
     "output_type": "stream",
     "text": [
      "sorted - ['apple', 'coconut', 'lemon', 'mango', 'orange', 'papaya', 'strawberry']\n",
      "sorted - ['strawberry', 'papaya', 'orange', 'mango', 'lemon', 'coconut', 'apple']\n",
      "sorted - ['apple', 'mango', 'lemon', 'orange', 'papaya', 'coconut', 'strawberry']\n",
      "sorted - ['papaya', 'orange', 'apple', 'lemon', 'mango', 'coconut', 'strawberry']\n",
      "sorted - ['strawberry', 'coconut', 'mango', 'lemon', 'orange', 'apple', 'papaya']\n"
     ]
    }
   ],
   "source": [
    "# sort vs sorted \n",
    "# reverse, key=len, key=str.lower, key=func..\n",
    "\n",
    "# sorted : 정렬 후 새로운 객체 반환\n",
    "f_list = ['orange', 'apple', 'mango', 'papaya', 'lemon', 'strawberry', 'coconut']\n",
    "\n",
    "print('sorted -', sorted(f_list))\n",
    "print('sorted -', sorted(f_list, reverse=True))\n",
    "print('sorted -', sorted(f_list, key=len))\n",
    "print('sorted -', sorted(f_list, key=lambda x: x[-1]))\n",
    "print('sorted -', sorted(f_list, key=lambda x: x[-1], reverse=True))"
   ]
  },
  {
   "cell_type": "code",
   "execution_count": 17,
   "metadata": {},
   "outputs": [
    {
     "name": "stdout",
     "output_type": "stream",
     "text": [
      "sorted - ['strawberry', 'coconut', 'mango', 'lemon', 'apple', 'orange', 'papaya']\n"
     ]
    }
   ],
   "source": [
    "print('sorted -', f_list)"
   ]
  },
  {
   "cell_type": "code",
   "execution_count": 18,
   "metadata": {},
   "outputs": [
    {
     "name": "stdout",
     "output_type": "stream",
     "text": [
      "sort - None ['apple', 'coconut', 'lemon', 'mango', 'orange', 'papaya', 'strawberry']\n",
      "sort - None ['strawberry', 'papaya', 'orange', 'mango', 'lemon', 'coconut', 'apple']\n",
      "sort - None ['mango', 'lemon', 'apple', 'papaya', 'orange', 'coconut', 'strawberry']\n",
      "sort - None ['papaya', 'apple', 'orange', 'lemon', 'mango', 'coconut', 'strawberry']\n",
      "sort - None ['strawberry', 'coconut', 'mango', 'lemon', 'apple', 'orange', 'papaya']\n"
     ]
    }
   ],
   "source": [
    "# sort : 정렬 후 객체 직접 변경\n",
    "\n",
    "# 반환 값 확인(None)\n",
    "print('sort -', f_list.sort(), f_list)\n",
    "print('sort -', f_list.sort(reverse=True), f_list)\n",
    "print('sort -', f_list.sort(key=len), f_list)\n",
    "print('sort -', f_list.sort(key=lambda x: x[-1]), f_list)\n",
    "print('sort -', f_list.sort(key=lambda x: x[-1], reverse=True), f_list)"
   ]
  },
  {
   "cell_type": "code",
   "execution_count": 19,
   "metadata": {},
   "outputs": [],
   "source": [
    "# List vs Array 적합 한 사용법 설명\n",
    "# 리스트 기반 : 융통성, 다양한 자료형, 범용적 사용\n",
    "# 숫자 기반 : 배열(리스트와 거의 호환)"
   ]
  }
 ],
 "metadata": {
  "kernelspec": {
   "display_name": "Python 3",
   "language": "python",
   "name": "python3"
  },
  "language_info": {
   "codemirror_mode": {
    "name": "ipython",
    "version": 3
   },
   "file_extension": ".py",
   "mimetype": "text/x-python",
   "name": "python",
   "nbconvert_exporter": "python",
   "pygments_lexer": "ipython3",
   "version": "3.11.8"
  }
 },
 "nbformat": 4,
 "nbformat_minor": 2
}
