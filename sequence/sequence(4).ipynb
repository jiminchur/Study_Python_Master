{
 "cells": [
  {
   "cell_type": "code",
   "execution_count": 1,
   "metadata": {},
   "outputs": [
    {
     "name": "stdout",
     "output_type": "stream",
     "text": [
      "{'key1': 'value1'} 4393538304\n",
      "{'key1': 'value1'} 4393122592\n",
      "False True\n"
     ]
    }
   ],
   "source": [
    "# immutable Dict\n",
    "from types import MappingProxyType\n",
    "\n",
    "d = {'key1': 'value1'}\n",
    "\n",
    "# Read Only\n",
    "d_frozen = MappingProxyType(d)\n",
    "\n",
    "print(d, id(d))\n",
    "print(d_frozen, id(d_frozen))\n",
    "print(d is d_frozen, d == d_frozen)"
   ]
  },
  {
   "cell_type": "code",
   "execution_count": 5,
   "metadata": {},
   "outputs": [
    {
     "ename": "TypeError",
     "evalue": "'mappingproxy' object does not support item assignment",
     "output_type": "error",
     "traceback": [
      "\u001b[0;31m---------------------------------------------------------------------------\u001b[0m",
      "\u001b[0;31mTypeError\u001b[0m                                 Traceback (most recent call last)",
      "\u001b[1;32m/Users/jimincheol/python/Study_Python_Master/sequence(4).ipynb Cell 3\u001b[0m line \u001b[0;36m2\n\u001b[1;32m      <a href='vscode-notebook-cell:/Users/jimincheol/python/Study_Python_Master/sequence%284%29.ipynb#W6sZmlsZQ%3D%3D?line=0'>1</a>\u001b[0m \u001b[39m# 수정 불가\u001b[39;00m\n\u001b[0;32m----> <a href='vscode-notebook-cell:/Users/jimincheol/python/Study_Python_Master/sequence%284%29.ipynb#W6sZmlsZQ%3D%3D?line=1'>2</a>\u001b[0m d_frozen[\u001b[39m'\u001b[39;49m\u001b[39mkey1\u001b[39;49m\u001b[39m'\u001b[39;49m] \u001b[39m=\u001b[39m \u001b[39m'\u001b[39m\u001b[39mvalue2\u001b[39m\u001b[39m'\u001b[39m\n",
      "\u001b[0;31mTypeError\u001b[0m: 'mappingproxy' object does not support item assignment"
     ]
    }
   ],
   "source": [
    "# 수정 불가\n",
    "d_frozen['key1'] = 'value2'"
   ]
  },
  {
   "cell_type": "code",
   "execution_count": 2,
   "metadata": {},
   "outputs": [
    {
     "name": "stdout",
     "output_type": "stream",
     "text": [
      "{'key1': 'value1', 'key2': 'value2'}\n"
     ]
    }
   ],
   "source": [
    "# 수정 불가\n",
    "# d_frozen['key1'] = 'value2'\n",
    "\n",
    "d['key2'] = 'value2'\n",
    "\n",
    "print(d)"
   ]
  },
  {
   "cell_type": "code",
   "execution_count": 3,
   "metadata": {},
   "outputs": [],
   "source": [
    "s1 = {'Apple', 'Orange', 'Apple', 'Orange', 'Kiwi'}\n",
    "s2 = set(['Apple', 'Orange', 'Apple', 'Orange', 'Kiwi'])\n",
    "s3 = {3}\n",
    "s4 = set() # Not {}\n",
    "s5 = frozenset({'Apple', 'Orange', 'Apple', 'Orange', 'Kiwi'})\n",
    "\n",
    "# 추가\n",
    "s1.add('Melon')"
   ]
  },
  {
   "cell_type": "code",
   "execution_count": 4,
   "metadata": {},
   "outputs": [
    {
     "ename": "AttributeError",
     "evalue": "'frozenset' object has no attribute 'add'",
     "output_type": "error",
     "traceback": [
      "\u001b[0;31m---------------------------------------------------------------------------\u001b[0m",
      "\u001b[0;31mAttributeError\u001b[0m                            Traceback (most recent call last)",
      "\u001b[1;32m/Users/jimincheol/python/Study_Python_Master/sequence(4).ipynb Cell 5\u001b[0m line \u001b[0;36m1\n\u001b[0;32m----> <a href='vscode-notebook-cell:/Users/jimincheol/python/Study_Python_Master/sequence%284%29.ipynb#W4sZmlsZQ%3D%3D?line=0'>1</a>\u001b[0m s5\u001b[39m.\u001b[39;49madd(\u001b[39m'\u001b[39m\u001b[39mMelon\u001b[39m\u001b[39m'\u001b[39m)\n",
      "\u001b[0;31mAttributeError\u001b[0m: 'frozenset' object has no attribute 'add'"
     ]
    }
   ],
   "source": [
    "# 추가 불가\n",
    "s5.add('Melon')"
   ]
  },
  {
   "cell_type": "code",
   "execution_count": 6,
   "metadata": {},
   "outputs": [
    {
     "name": "stdout",
     "output_type": "stream",
     "text": [
      "{'Apple', 'Kiwi', 'Melon', 'Orange'} <class 'set'>\n",
      "{'Apple', 'Kiwi', 'Orange'} <class 'set'>\n",
      "{3} <class 'set'>\n",
      "set() <class 'set'>\n",
      "frozenset({'Apple', 'Kiwi', 'Orange'}) <class 'frozenset'>\n"
     ]
    }
   ],
   "source": [
    "print(s1, type(s1))\n",
    "print(s2, type(s2))\n",
    "print(s3, type(s3))\n",
    "print(s4, type(s4))\n",
    "print(s5, type(s5))"
   ]
  },
  {
   "cell_type": "code",
   "execution_count": 7,
   "metadata": {},
   "outputs": [
    {
     "name": "stdout",
     "output_type": "stream",
     "text": [
      "------\n",
      "  0           0 RESUME                   0\n",
      "\n",
      "  1           2 LOAD_CONST               0 (10)\n",
      "              4 BUILD_SET                1\n",
      "              6 RETURN_VALUE\n",
      "None\n",
      "------\n",
      "  0           0 RESUME                   0\n",
      "\n",
      "  1           2 PUSH_NULL\n",
      "              4 LOAD_NAME                0 (set)\n",
      "              6 LOAD_CONST               0 (10)\n",
      "              8 BUILD_LIST               1\n",
      "             10 PRECALL                  1\n",
      "             14 CALL                     1\n",
      "             24 RETURN_VALUE\n",
      "None\n"
     ]
    }
   ],
   "source": [
    "# 선언 최적화\n",
    "from dis import dis\n",
    "\n",
    "print('------')\n",
    "print(dis('{10}'))\n",
    "\n",
    "print('------')\n",
    "print(dis('set([10])'))"
   ]
  },
  {
   "cell_type": "code",
   "execution_count": 8,
   "metadata": {},
   "outputs": [
    {
     "name": "stdout",
     "output_type": "stream",
     "text": [
      "------\n",
      "{'', 'LATIN SMALL LETTER O WITH TILDE', 'LATIN CAPITAL LETTER E WITH CIRCUMFLEX', 'DIGIT THREE', 'REGISTERED SIGN', 'LATIN CAPITAL LETTER E WITH GRAVE', 'LATIN SMALL LETTER Y WITH ACUTE', 'LATIN SMALL LETTER Z', 'GREATER-THAN SIGN', 'LATIN SMALL LETTER Y WITH DIAERESIS', 'INVERTED EXCLAMATION MARK', 'LATIN CAPITAL LETTER O WITH ACUTE', 'LATIN SMALL LETTER E', 'LATIN CAPITAL LETTER C WITH CEDILLA', 'LATIN SMALL LETTER O', 'LATIN SMALL LETTER K', 'RIGHT SQUARE BRACKET', 'LATIN CAPITAL LETTER A WITH RING ABOVE', 'LEFT PARENTHESIS', 'LATIN SMALL LETTER A WITH RING ABOVE', 'LATIN CAPITAL LETTER AE', 'QUOTATION MARK', 'LATIN SMALL LETTER Q', 'COLON', 'DIGIT SIX', 'LATIN SMALL LETTER THORN', 'LATIN CAPITAL LETTER C', 'MIDDLE DOT', 'MICRO SIGN', 'LATIN SMALL LETTER A WITH ACUTE', 'DIGIT FIVE', 'MULTIPLICATION SIGN', 'LATIN SMALL LETTER O WITH DIAERESIS', 'LATIN SMALL LETTER E WITH GRAVE', 'LATIN CAPITAL LETTER Q', 'LATIN SMALL LETTER O WITH GRAVE', 'LATIN SMALL LETTER O WITH STROKE', 'DIGIT ZERO', 'SUPERSCRIPT TWO', 'LATIN SMALL LETTER W', 'QUESTION MARK', 'LATIN SMALL LETTER C', 'AMPERSAND', 'DIGIT TWO', 'LATIN CAPITAL LETTER D', 'LATIN SMALL LETTER D', 'DIGIT EIGHT', 'LATIN SMALL LETTER M', 'LATIN SMALL LETTER ETH', 'VULGAR FRACTION THREE QUARTERS', 'LATIN CAPITAL LETTER O WITH GRAVE', 'RIGHT PARENTHESIS', 'SOFT HYPHEN', 'LATIN SMALL LETTER S', 'LATIN SMALL LETTER U WITH GRAVE', 'LATIN CAPITAL LETTER U WITH GRAVE', 'LATIN SMALL LETTER SHARP S', 'GRAVE ACCENT', 'LATIN SMALL LETTER E WITH CIRCUMFLEX', 'LATIN SMALL LETTER U WITH CIRCUMFLEX', 'LATIN CAPITAL LETTER R', 'LATIN SMALL LETTER I WITH DIAERESIS', 'VULGAR FRACTION ONE HALF', 'NOT SIGN', 'LATIN SMALL LETTER U', 'EQUALS SIGN', 'LATIN CAPITAL LETTER S', 'LATIN SMALL LETTER I WITH GRAVE', 'APOSTROPHE', 'LATIN CAPITAL LETTER K', 'LATIN CAPITAL LETTER U WITH ACUTE', 'LATIN CAPITAL LETTER Y WITH ACUTE', 'LEFT SQUARE BRACKET', 'LATIN CAPITAL LETTER U WITH DIAERESIS', 'LATIN CAPITAL LETTER O WITH STROKE', 'RIGHT CURLY BRACKET', 'LESS-THAN SIGN', 'LATIN SMALL LETTER E WITH DIAERESIS', 'SEMICOLON', 'DIGIT SEVEN', 'LATIN CAPITAL LETTER B', 'MASCULINE ORDINAL INDICATOR', 'LATIN CAPITAL LETTER N', 'LATIN CAPITAL LETTER I WITH ACUTE', 'DIVISION SIGN', 'LATIN CAPITAL LETTER A WITH CIRCUMFLEX', 'DIGIT ONE', 'COMMA', 'FEMININE ORDINAL INDICATOR', 'DOLLAR SIGN', 'TILDE', 'HYPHEN-MINUS', 'LATIN SMALL LETTER U WITH DIAERESIS', 'VERTICAL LINE', 'LATIN CAPITAL LETTER I WITH GRAVE', 'PLUS-MINUS SIGN', 'BROKEN BAR', 'LATIN CAPITAL LETTER T', 'COMMERCIAL AT', 'LATIN CAPITAL LETTER U WITH CIRCUMFLEX', 'LATIN CAPITAL LETTER THORN', 'LATIN CAPITAL LETTER ETH', 'LATIN CAPITAL LETTER U', 'CURRENCY SIGN', 'LATIN SMALL LETTER G', 'DIAERESIS', 'LATIN SMALL LETTER N WITH TILDE', 'LATIN SMALL LETTER X', 'NUMBER SIGN', 'LATIN SMALL LETTER F', 'LATIN SMALL LETTER C WITH CEDILLA', 'LATIN CAPITAL LETTER X', 'LATIN CAPITAL LETTER I WITH DIAERESIS', 'LATIN SMALL LETTER A', 'LATIN CAPITAL LETTER I WITH CIRCUMFLEX', 'LATIN CAPITAL LETTER O', 'YEN SIGN', 'DIGIT FOUR', 'LATIN SMALL LETTER R', 'LATIN CAPITAL LETTER O WITH CIRCUMFLEX', 'LATIN SMALL LETTER V', 'LATIN CAPITAL LETTER N WITH TILDE', 'EXCLAMATION MARK', 'NO-BREAK SPACE', 'LATIN CAPITAL LETTER P', 'LATIN CAPITAL LETTER F', 'ACUTE ACCENT', 'LATIN CAPITAL LETTER A WITH ACUTE', 'INVERTED QUESTION MARK', 'SECTION SIGN', 'LATIN CAPITAL LETTER W', 'PLUS SIGN', 'LATIN CAPITAL LETTER Y', 'LATIN CAPITAL LETTER A WITH GRAVE', 'LATIN CAPITAL LETTER A WITH TILDE', 'LATIN CAPITAL LETTER G', 'CIRCUMFLEX ACCENT', 'LATIN CAPITAL LETTER A', 'LATIN SMALL LETTER I', 'LATIN SMALL LETTER I WITH ACUTE', 'LATIN SMALL LETTER P', 'VULGAR FRACTION ONE QUARTER', 'LATIN SMALL LETTER E WITH ACUTE', 'LATIN SMALL LETTER AE', 'LATIN CAPITAL LETTER E', 'REVERSE SOLIDUS', 'LATIN SMALL LETTER L', 'LATIN SMALL LETTER T', 'LATIN SMALL LETTER H', 'RIGHT-POINTING DOUBLE ANGLE QUOTATION MARK', 'LATIN SMALL LETTER O WITH CIRCUMFLEX', 'LATIN SMALL LETTER U WITH ACUTE', 'LATIN SMALL LETTER A WITH TILDE', 'DEGREE SIGN', 'MACRON', 'LATIN CAPITAL LETTER M', 'LATIN CAPITAL LETTER A WITH DIAERESIS', 'LATIN CAPITAL LETTER L', 'PILCROW SIGN', 'POUND SIGN', 'SPACE', 'COPYRIGHT SIGN', 'LATIN CAPITAL LETTER E WITH ACUTE', 'LOW LINE', 'CENT SIGN', 'PERCENT SIGN', 'SUPERSCRIPT THREE', 'SUPERSCRIPT ONE', 'LATIN CAPITAL LETTER E WITH DIAERESIS', 'LATIN SMALL LETTER J', 'LATIN CAPITAL LETTER H', 'DIGIT NINE', 'LATIN CAPITAL LETTER Z', 'LATIN SMALL LETTER A WITH DIAERESIS', 'LATIN CAPITAL LETTER O WITH DIAERESIS', 'LATIN CAPITAL LETTER J', 'LATIN CAPITAL LETTER I', 'LATIN SMALL LETTER Y', 'LATIN SMALL LETTER A WITH GRAVE', 'FULL STOP', 'LATIN SMALL LETTER A WITH CIRCUMFLEX', 'LATIN SMALL LETTER B', 'LATIN CAPITAL LETTER O WITH TILDE', 'LATIN SMALL LETTER O WITH ACUTE', 'SOLIDUS', 'LEFT-POINTING DOUBLE ANGLE QUOTATION MARK', 'CEDILLA', 'LATIN SMALL LETTER I WITH CIRCUMFLEX', 'ASTERISK', 'LATIN CAPITAL LETTER V', 'LEFT CURLY BRACKET', 'LATIN SMALL LETTER N'}\n"
     ]
    }
   ],
   "source": [
    "# 지능형 집합(Comprehending Set)\n",
    "from unicodedata import name\n",
    "\n",
    "print('------')\n",
    "\n",
    "print({name(chr(i), '') for i in range(0,256)})"
   ]
  },
  {
   "cell_type": "code",
   "execution_count": null,
   "metadata": {},
   "outputs": [],
   "source": []
  }
 ],
 "metadata": {
  "kernelspec": {
   "display_name": "Python 3",
   "language": "python",
   "name": "python3"
  },
  "language_info": {
   "codemirror_mode": {
    "name": "ipython",
    "version": 3
   },
   "file_extension": ".py",
   "mimetype": "text/x-python",
   "name": "python",
   "nbconvert_exporter": "python",
   "pygments_lexer": "ipython3",
   "version": "3.11.8"
  }
 },
 "nbformat": 4,
 "nbformat_minor": 2
}
