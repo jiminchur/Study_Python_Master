{
 "cells": [
  {
   "cell_type": "code",
   "execution_count": 1,
   "metadata": {},
   "outputs": [
    {
     "name": "stdout",
     "output_type": "stream",
     "text": [
      "465510690262297113\n"
     ]
    }
   ],
   "source": [
    "# 시퀀스형\n",
    "# 해시테이블(hashtable) -> 적은 리소스로 많은 데이터를 효율적으로 관리\n",
    "# Dict -> Key 중복 허용 X, Set -> 중복 허용 X\n",
    "# Dict 및 Set 심화\n",
    "\n",
    "# Dict 구조\n",
    "# print(__builtins__.__dict__)\n",
    "# Hash 값 확인\n",
    "t1 = (10, 20, (30, 40, 50))\n",
    "t2 = (10, 20, [30, 40, 50])\n",
    "\n",
    "print(hash(t1))"
   ]
  },
  {
   "cell_type": "code",
   "execution_count": 2,
   "metadata": {},
   "outputs": [
    {
     "ename": "TypeError",
     "evalue": "unhashable type: 'list'",
     "output_type": "error",
     "traceback": [
      "\u001b[0;31m---------------------------------------------------------------------------\u001b[0m",
      "\u001b[0;31mTypeError\u001b[0m                                 Traceback (most recent call last)",
      "\u001b[1;32m/Users/jimincheol/python/Study_Python_Master/sequence(3).ipynb Cell 3\u001b[0m line \u001b[0;36m1\n\u001b[0;32m----> <a href='vscode-notebook-cell:/Users/jimincheol/python/Study_Python_Master/sequence%283%29.ipynb#X12sZmlsZQ%3D%3D?line=0'>1</a>\u001b[0m \u001b[39mprint\u001b[39m(\u001b[39mhash\u001b[39;49m(t2))\n",
      "\u001b[0;31mTypeError\u001b[0m: unhashable type: 'list'"
     ]
    }
   ],
   "source": [
    "print(hash(t2))"
   ]
  },
  {
   "cell_type": "code",
   "execution_count": 6,
   "metadata": {},
   "outputs": [],
   "source": [
    "# Dict Setdefault 예제\n",
    "source = (('k1', 'val1'),\n",
    "            ('k1', 'val2'),\n",
    "            ('k2', 'val3'),\n",
    "            ('k2', 'val4'),\n",
    "            ('k2', 'val5'))\n",
    "\n",
    "new_dict1 = {}\n",
    "new_dict2 = {}"
   ]
  },
  {
   "cell_type": "code",
   "execution_count": 7,
   "metadata": {},
   "outputs": [
    {
     "name": "stdout",
     "output_type": "stream",
     "text": [
      "{'k1': ['val1', 'val2'], 'k2': ['val3', 'val4', 'val5']}\n"
     ]
    }
   ],
   "source": [
    "for k, v in source:\n",
    "    if k in new_dict1:\n",
    "        new_dict1[k].append(v)\n",
    "    else:\n",
    "        new_dict1[k] = [v]\n",
    "\n",
    "print(new_dict1)"
   ]
  },
  {
   "cell_type": "code",
   "execution_count": 8,
   "metadata": {},
   "outputs": [
    {
     "name": "stdout",
     "output_type": "stream",
     "text": [
      "{'k1': ['val1', 'val2'], 'k2': ['val3', 'val4', 'val5']}\n"
     ]
    }
   ],
   "source": [
    "# Use setdefault\n",
    "for k, v in source:\n",
    "    new_dict2.setdefault(k, []).append(v)\n",
    "\n",
    "print(new_dict2)"
   ]
  },
  {
   "cell_type": "code",
   "execution_count": 9,
   "metadata": {},
   "outputs": [
    {
     "name": "stdout",
     "output_type": "stream",
     "text": [
      "{'k1': 'val2', 'k2': 'val5'}\n"
     ]
    }
   ],
   "source": [
    "# 주의\n",
    "new_dict3 = {k : v for k , v in source}\n",
    "\n",
    "print(new_dict3)"
   ]
  },
  {
   "cell_type": "code",
   "execution_count": null,
   "metadata": {},
   "outputs": [],
   "source": []
  }
 ],
 "metadata": {
  "kernelspec": {
   "display_name": "Python 3",
   "language": "python",
   "name": "python3"
  },
  "language_info": {
   "codemirror_mode": {
    "name": "ipython",
    "version": 3
   },
   "file_extension": ".py",
   "mimetype": "text/x-python",
   "name": "python",
   "nbconvert_exporter": "python",
   "pygments_lexer": "ipython3",
   "version": "3.11.8"
  }
 },
 "nbformat": 4,
 "nbformat_minor": 2
}
