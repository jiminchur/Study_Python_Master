{
 "cells": [
  {
   "cell_type": "code",
   "execution_count": 1,
   "metadata": {},
   "outputs": [],
   "source": [
    "# 데코레이터\n",
    "\n",
    "# 장점\n",
    "# 1. 중복 제거, 코드 간결, 공통 함수 작성\n",
    "# 2. 로깅, 프레임워크, 유효성 체크..... -> 공통 기능 \n",
    "# 3. 조합해서 사용 용이\n",
    "\n",
    "# 단점\n",
    "# 1. 가독성 감소?\n",
    "# 2. 특정 기능에 한정된 함수는 -> 단일 함수로 작성하는 것이 유리\n",
    "# 3. 디버깅 불편"
   ]
  },
  {
   "cell_type": "code",
   "execution_count": 2,
   "metadata": {},
   "outputs": [],
   "source": [
    "# 데코레이터 실습\n",
    "import time\n",
    "\n",
    "def perf_clock(func):\n",
    "    def perf_clocked(*args):\n",
    "        # 함수 시작 시간 \n",
    "        st = time.perf_counter() \n",
    "        result = func(*args)\n",
    "        # 함수 종료 시간 계산\n",
    "        et = time.perf_counter() - st \n",
    "        # 실행 함수명\n",
    "        name = func.__name__\n",
    "        # 함수 매개변수 \n",
    "        arg_str = ', '.join(repr(arg) for arg in args)\n",
    "        # 결과 출력\n",
    "        print('[%0.5fs] %s(%s) -> %r' % (et, name, arg_str, result)) \n",
    "        return result \n",
    "    return perf_clocked"
   ]
  },
  {
   "cell_type": "code",
   "execution_count": 3,
   "metadata": {},
   "outputs": [],
   "source": [
    "@perf_clock\n",
    "def time_func(seconds):\n",
    "    time.sleep(seconds)\n",
    "\n",
    "@perf_clock\n",
    "def sum_func(*numbers):\n",
    "    return sum(numbers)"
   ]
  },
  {
   "cell_type": "code",
   "execution_count": 4,
   "metadata": {},
   "outputs": [
    {
     "name": "stdout",
     "output_type": "stream",
     "text": [
      "<function perf_clock.<locals>.perf_clocked at 0x1058e6660> ('func',)\n",
      "<function perf_clock.<locals>.perf_clocked at 0x1058e6700> ('func',)\n"
     ]
    }
   ],
   "source": [
    "# 데코레이터 미사용\n",
    "none_deco1 = perf_clock(time_func)\n",
    "none_deco2 = perf_clock(sum_func)\n",
    "\n",
    "print(none_deco1, none_deco1.__code__.co_freevars)\n",
    "print(none_deco2, none_deco2.__code__.co_freevars)"
   ]
  },
  {
   "cell_type": "code",
   "execution_count": 5,
   "metadata": {},
   "outputs": [
    {
     "name": "stdout",
     "output_type": "stream",
     "text": [
      "---------------------------------------- Called None Decorator -> time_func\n",
      "\n",
      "[1.50506s] time_func(1.5) -> None\n",
      "[1.50542s] perf_clocked(1.5) -> None\n",
      "---------------------------------------- Called None Decorator -> sum_func\n",
      "\n",
      "[0.00003s] sum_func(100, 150, 250, 300, 350) -> 1150\n",
      "[0.00005s] perf_clocked(100, 150, 250, 300, 350) -> 1150\n"
     ]
    },
    {
     "data": {
      "text/plain": [
       "1150"
      ]
     },
     "execution_count": 5,
     "metadata": {},
     "output_type": "execute_result"
    }
   ],
   "source": [
    "print('-' * 40, 'Called None Decorator -> time_func')\n",
    "print()\n",
    "none_deco1(1.5)\n",
    "print('-' * 40, 'Called None Decorator -> sum_func')\n",
    "print()\n",
    "none_deco2(100, 150, 250, 300, 350)"
   ]
  },
  {
   "cell_type": "code",
   "execution_count": 6,
   "metadata": {},
   "outputs": [
    {
     "name": "stdout",
     "output_type": "stream",
     "text": [
      "**************************************** Called Decorator -> time_func\n",
      "\n",
      "[1.50511s] time_func(1.5) -> None\n",
      "**************************************** Called Decorator -> sum_func\n",
      "\n",
      "[0.00001s] sum_func(100, 150, 250, 300, 350) -> 1150\n"
     ]
    },
    {
     "data": {
      "text/plain": [
       "1150"
      ]
     },
     "execution_count": 6,
     "metadata": {},
     "output_type": "execute_result"
    }
   ],
   "source": [
    "# 데코레이터 사용\n",
    "print('*' * 40, 'Called Decorator -> time_func')\n",
    "print()\n",
    "time_func(1.5)\n",
    "print('*' * 40, 'Called Decorator -> sum_func')\n",
    "print()\n",
    "sum_func(100, 150, 250, 300, 350)"
   ]
  },
  {
   "cell_type": "code",
   "execution_count": null,
   "metadata": {},
   "outputs": [],
   "source": []
  }
 ],
 "metadata": {
  "kernelspec": {
   "display_name": "Python 3",
   "language": "python",
   "name": "python3"
  },
  "language_info": {
   "codemirror_mode": {
    "name": "ipython",
    "version": 3
   },
   "file_extension": ".py",
   "mimetype": "text/x-python",
   "name": "python",
   "nbconvert_exporter": "python",
   "pygments_lexer": "ipython3",
   "version": "3.11.8"
  }
 },
 "nbformat": 4,
 "nbformat_minor": 2
}
