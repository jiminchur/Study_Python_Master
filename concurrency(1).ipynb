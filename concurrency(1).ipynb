{
 "cells": [
  {
   "cell_type": "code",
   "execution_count": null,
   "metadata": {},
   "outputs": [],
   "source": [
    "# 병행성 (Concurrency)\n",
    "# 이터레이터(Iterator), 제네레이터(Generator)\n",
    "\n",
    "# 파이썬 반복 가능한 타입\n",
    "# for, collections, text file, List , Dict, Set, Tuple, unpacking, *args\n",
    "\n",
    "# 반복이 가능한 이유는?? -> iter() 함수 호출"
   ]
  },
  {
   "cell_type": "code",
   "execution_count": 2,
   "metadata": {},
   "outputs": [
    {
     "name": "stdout",
     "output_type": "stream",
     "text": [
      "A\n",
      "B\n",
      "C\n",
      "D\n",
      "E\n",
      "F\n",
      "G\n",
      "H\n",
      "I\n",
      "J\n",
      "K\n",
      "L\n",
      "M\n",
      "N\n",
      "O\n",
      "P\n",
      "Q\n",
      "R\n",
      "S\n",
      "T\n",
      "U\n",
      "V\n",
      "W\n",
      "X\n",
      "Y\n",
      "Z\n"
     ]
    }
   ],
   "source": [
    "# 예시\n",
    "text = \"ABCDEFGHIJKLMNOPQRSTUVWXYZ\"\n",
    "\n",
    "# 반복문\n",
    "for i in text:\n",
    "    print(i)"
   ]
  },
  {
   "cell_type": "code",
   "execution_count": 5,
   "metadata": {},
   "outputs": [
    {
     "name": "stdout",
     "output_type": "stream",
     "text": [
      "A\n",
      "B\n",
      "C\n",
      "D\n",
      "E\n",
      "F\n",
      "G\n",
      "H\n",
      "I\n",
      "J\n",
      "K\n",
      "L\n",
      "M\n",
      "N\n",
      "O\n",
      "P\n",
      "Q\n",
      "R\n",
      "S\n",
      "T\n",
      "U\n",
      "V\n",
      "W\n",
      "X\n",
      "Y\n",
      "Z\n"
     ]
    }
   ],
   "source": [
    "# while문 인데 iter() 사용해서\n",
    "w = iter(text)\n",
    "\n",
    "while True:\n",
    "    try :\n",
    "        print(next(w))\n",
    "    except StopIteration:\n",
    "        break\n"
   ]
  },
  {
   "cell_type": "code",
   "execution_count": 7,
   "metadata": {},
   "outputs": [
    {
     "name": "stdout",
     "output_type": "stream",
     "text": [
      "True\n",
      "True\n"
     ]
    }
   ],
   "source": [
    "from collections import abc\n",
    "\n",
    "# 반복형 확인\n",
    "print(hasattr(text,'__iter__'))\n",
    "print(isinstance(text, abc.Iterable))"
   ]
  },
  {
   "cell_type": "code",
   "execution_count": 13,
   "metadata": {},
   "outputs": [],
   "source": [
    "# next 사용\n",
    "\n",
    "class WordSplitter:\n",
    "    def __init__(self, text):\n",
    "        self._idx = 0\n",
    "        self._text = text.split(\" \")\n",
    "\n",
    "    def __next__(self):\n",
    "        try :\n",
    "            word = self._text[self._idx]\n",
    "        except IndexError:\n",
    "            raise StopIteration('Stopped Iteration')\n",
    "        self._idx += 1\n",
    "        return word\n",
    "    \n",
    "    def __repr__(self):\n",
    "        return \"WordSplit(%s)\" % (self._text)\n",
    "\n",
    "ws = WordSplitter(\"Just Do it\")"
   ]
  },
  {
   "cell_type": "code",
   "execution_count": 14,
   "metadata": {},
   "outputs": [
    {
     "name": "stdout",
     "output_type": "stream",
     "text": [
      "WordSplit(['Just', 'Do', 'it'])\n"
     ]
    }
   ],
   "source": [
    "print(ws)"
   ]
  },
  {
   "cell_type": "code",
   "execution_count": 15,
   "metadata": {},
   "outputs": [
    {
     "name": "stdout",
     "output_type": "stream",
     "text": [
      "Just\n",
      "Do\n",
      "it\n"
     ]
    }
   ],
   "source": [
    "print(next(ws))\n",
    "print(next(ws))\n",
    "print(next(ws))"
   ]
  },
  {
   "cell_type": "code",
   "execution_count": 16,
   "metadata": {},
   "outputs": [
    {
     "ename": "StopIteration",
     "evalue": "Stopped Iteration",
     "output_type": "error",
     "traceback": [
      "\u001b[0;31m---------------------------------------------------------------------------\u001b[0m",
      "\u001b[0;31mIndexError\u001b[0m                                Traceback (most recent call last)",
      "\u001b[1;32m/Users/jimincheol/python/Study_Python_Master/concurrency.ipynb Cell 8\u001b[0m line \u001b[0;36m1\n\u001b[1;32m      <a href='vscode-notebook-cell:/Users/jimincheol/python/Study_Python_Master/concurrency.ipynb#X10sZmlsZQ%3D%3D?line=8'>9</a>\u001b[0m \u001b[39mtry\u001b[39;00m :\n\u001b[0;32m---> <a href='vscode-notebook-cell:/Users/jimincheol/python/Study_Python_Master/concurrency.ipynb#X10sZmlsZQ%3D%3D?line=9'>10</a>\u001b[0m     word \u001b[39m=\u001b[39m \u001b[39mself\u001b[39;49m\u001b[39m.\u001b[39;49m_text[\u001b[39mself\u001b[39;49m\u001b[39m.\u001b[39;49m_idx]\n\u001b[1;32m     <a href='vscode-notebook-cell:/Users/jimincheol/python/Study_Python_Master/concurrency.ipynb#X10sZmlsZQ%3D%3D?line=10'>11</a>\u001b[0m \u001b[39mexcept\u001b[39;00m \u001b[39mIndexError\u001b[39;00m:\n",
      "\u001b[0;31mIndexError\u001b[0m: list index out of range",
      "\nDuring handling of the above exception, another exception occurred:\n",
      "\u001b[0;31mStopIteration\u001b[0m                             Traceback (most recent call last)",
      "\u001b[1;32m/Users/jimincheol/python/Study_Python_Master/concurrency.ipynb Cell 8\u001b[0m line \u001b[0;36m2\n\u001b[1;32m      <a href='vscode-notebook-cell:/Users/jimincheol/python/Study_Python_Master/concurrency.ipynb#X10sZmlsZQ%3D%3D?line=0'>1</a>\u001b[0m \u001b[39m# 오류\u001b[39;00m\n\u001b[0;32m----> <a href='vscode-notebook-cell:/Users/jimincheol/python/Study_Python_Master/concurrency.ipynb#X10sZmlsZQ%3D%3D?line=1'>2</a>\u001b[0m \u001b[39mprint\u001b[39m(\u001b[39mnext\u001b[39;49m(ws))\n",
      "\u001b[1;32m/Users/jimincheol/python/Study_Python_Master/concurrency.ipynb Cell 8\u001b[0m line \u001b[0;36m1\n\u001b[1;32m     <a href='vscode-notebook-cell:/Users/jimincheol/python/Study_Python_Master/concurrency.ipynb#X10sZmlsZQ%3D%3D?line=9'>10</a>\u001b[0m     word \u001b[39m=\u001b[39m \u001b[39mself\u001b[39m\u001b[39m.\u001b[39m_text[\u001b[39mself\u001b[39m\u001b[39m.\u001b[39m_idx]\n\u001b[1;32m     <a href='vscode-notebook-cell:/Users/jimincheol/python/Study_Python_Master/concurrency.ipynb#X10sZmlsZQ%3D%3D?line=10'>11</a>\u001b[0m \u001b[39mexcept\u001b[39;00m \u001b[39mIndexError\u001b[39;00m:\n\u001b[0;32m---> <a href='vscode-notebook-cell:/Users/jimincheol/python/Study_Python_Master/concurrency.ipynb#X10sZmlsZQ%3D%3D?line=11'>12</a>\u001b[0m     \u001b[39mraise\u001b[39;00m \u001b[39mStopIteration\u001b[39;00m(\u001b[39m'\u001b[39m\u001b[39mStopped Iteration\u001b[39m\u001b[39m'\u001b[39m)\n\u001b[1;32m     <a href='vscode-notebook-cell:/Users/jimincheol/python/Study_Python_Master/concurrency.ipynb#X10sZmlsZQ%3D%3D?line=12'>13</a>\u001b[0m \u001b[39mself\u001b[39m\u001b[39m.\u001b[39m_idx \u001b[39m+\u001b[39m\u001b[39m=\u001b[39m \u001b[39m1\u001b[39m\n\u001b[1;32m     <a href='vscode-notebook-cell:/Users/jimincheol/python/Study_Python_Master/concurrency.ipynb#X10sZmlsZQ%3D%3D?line=13'>14</a>\u001b[0m \u001b[39mreturn\u001b[39;00m word\n",
      "\u001b[0;31mStopIteration\u001b[0m: Stopped Iteration"
     ]
    }
   ],
   "source": [
    "# 오류\n",
    "print(next(ws))"
   ]
  },
  {
   "cell_type": "code",
   "execution_count": 18,
   "metadata": {},
   "outputs": [],
   "source": [
    "# Generator 패턴\n",
    "# 1.지능형 리스트, 딕셔너리, 집합 -> 데이터 양 증가 후 메모리 사용량 증가 -> 제네레이터 사용 권장\n",
    "# 2.단위 실행 가능한 코루틴(Coroutine) 구현과 연동\n",
    "# 3.작은 메모리 조각 사용\n",
    "\n",
    "class WordSplitGenerator:\n",
    "    def __init__(self, text):\n",
    "        self._text = text.split(\" \")\n",
    "\n",
    "    def __iter__(self):\n",
    "        print(\"Called >> __iter__\")\n",
    "        for word in self._text:\n",
    "            yield word\n",
    "\n",
    "    def __repr__(self):\n",
    "        return 'WordSplit(%s)' % (self._text)"
   ]
  },
  {
   "cell_type": "code",
   "execution_count": 19,
   "metadata": {},
   "outputs": [],
   "source": [
    "ws2 = WordSplitGenerator(\"No Pain, No Gain\")"
   ]
  },
  {
   "cell_type": "code",
   "execution_count": 20,
   "metadata": {},
   "outputs": [],
   "source": [
    "ws2 = iter(ws2)"
   ]
  },
  {
   "cell_type": "code",
   "execution_count": 21,
   "metadata": {},
   "outputs": [
    {
     "name": "stdout",
     "output_type": "stream",
     "text": [
      "<generator object WordSplitGenerator.__iter__ at 0x107b88a00>\n"
     ]
    }
   ],
   "source": [
    "print(ws2)"
   ]
  },
  {
   "cell_type": "code",
   "execution_count": 22,
   "metadata": {},
   "outputs": [
    {
     "name": "stdout",
     "output_type": "stream",
     "text": [
      "Called >> __iter__\n",
      "No\n"
     ]
    }
   ],
   "source": [
    "print(next(ws2))"
   ]
  },
  {
   "cell_type": "code",
   "execution_count": 23,
   "metadata": {},
   "outputs": [
    {
     "name": "stdout",
     "output_type": "stream",
     "text": [
      "Pain,\n"
     ]
    }
   ],
   "source": [
    "print(next(ws2))"
   ]
  },
  {
   "cell_type": "code",
   "execution_count": 24,
   "metadata": {},
   "outputs": [
    {
     "name": "stdout",
     "output_type": "stream",
     "text": [
      "No\n"
     ]
    }
   ],
   "source": [
    "print(next(ws2))"
   ]
  },
  {
   "cell_type": "code",
   "execution_count": 25,
   "metadata": {},
   "outputs": [
    {
     "name": "stdout",
     "output_type": "stream",
     "text": [
      "Gain\n"
     ]
    }
   ],
   "source": [
    "print(next(ws2))"
   ]
  },
  {
   "cell_type": "code",
   "execution_count": 26,
   "metadata": {},
   "outputs": [
    {
     "ename": "StopIteration",
     "evalue": "",
     "output_type": "error",
     "traceback": [
      "\u001b[0;31m---------------------------------------------------------------------------\u001b[0m",
      "\u001b[0;31mStopIteration\u001b[0m                             Traceback (most recent call last)",
      "\u001b[1;32m/Users/jimincheol/python/Study_Python_Master/concurrency.ipynb Cell 17\u001b[0m line \u001b[0;36m1\n\u001b[0;32m----> <a href='vscode-notebook-cell:/Users/jimincheol/python/Study_Python_Master/concurrency.ipynb#X22sZmlsZQ%3D%3D?line=0'>1</a>\u001b[0m \u001b[39mprint\u001b[39m(\u001b[39mnext\u001b[39;49m(ws2))\n",
      "\u001b[0;31mStopIteration\u001b[0m: "
     ]
    }
   ],
   "source": [
    "# 오류\n",
    "print(next(ws2))"
   ]
  }
 ],
 "metadata": {
  "kernelspec": {
   "display_name": "Python 3",
   "language": "python",
   "name": "python3"
  },
  "language_info": {
   "codemirror_mode": {
    "name": "ipython",
    "version": 3
   },
   "file_extension": ".py",
   "mimetype": "text/x-python",
   "name": "python",
   "nbconvert_exporter": "python",
   "pygments_lexer": "ipython3",
   "version": "3.11.8"
  }
 },
 "nbformat": 4,
 "nbformat_minor": 2
}
