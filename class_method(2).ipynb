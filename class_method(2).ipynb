{
 "cells": [
  {
   "cell_type": "code",
   "execution_count": 27,
   "metadata": {},
   "outputs": [],
   "source": [
    "# 클래스 구조\n",
    "# 구조 설계 후 재사용성 증가, 코드 반복 최소화, 메소드 활용\n",
    "class Car():\n",
    "    \"\"\"\n",
    "    Car class\n",
    "    Author : JI\n",
    "    Date : 2025.01.30\n",
    "    \"\"\"\n",
    "\n",
    "    # 클래스 변수 (모든 인스턴스가 공유)\n",
    "    car_count = 0\n",
    "\n",
    "    def __init__(self, company, details):\n",
    "        self._company = company\n",
    "        self._details = details\n",
    "        Car.car_count += 1\n",
    "\n",
    "    # 사용자 레벨\n",
    "    def __str__(self):\n",
    "        return 'str : {} - {}'.format(self._company,self._details)\n",
    "    \n",
    "    # 개발자 레벨\n",
    "    def __repr__(self):\n",
    "        return 'repr : {} - {}'.format(self._company,self._details)\n",
    "\n",
    "    # 삭제\n",
    "    def __del__(self):\n",
    "        print(\"del??\")\n",
    "        Car.car_count -= 1\n",
    "\n",
    "    def detail_info(self):\n",
    "        print(\"Current ID : {}\".format(id(self)))\n",
    "        print(\"Car Detail Info : {} {}\".format(self._company, self._details.get('price')))\n",
    "\n",
    "\n",
    "car1 = Car('ferrari',{'color' : 'white','horsepower' : 400 ,'price' : 8000})\n",
    "car2 = Car('bmw',{'color' : 'black','horsepower' : 270,'price' : 5000})\n",
    "car3 = Car('audi',{'color' : 'silver','horsepower' : 300,'price' : 6000})"
   ]
  },
  {
   "cell_type": "code",
   "execution_count": 2,
   "metadata": {},
   "outputs": [
    {
     "name": "stdout",
     "output_type": "stream",
     "text": [
      "4357889616\n",
      "4357679440\n",
      "4357720272\n"
     ]
    }
   ],
   "source": [
    "# ID 값 확인\n",
    "print(id(car1))\n",
    "print(id(car2))\n",
    "print(id(car3))"
   ]
  },
  {
   "cell_type": "code",
   "execution_count": 3,
   "metadata": {},
   "outputs": [
    {
     "name": "stdout",
     "output_type": "stream",
     "text": [
      "False\n",
      "False\n"
     ]
    }
   ],
   "source": [
    "print(car1._company == car2._company)\n",
    "print(car1 is car2)"
   ]
  },
  {
   "cell_type": "code",
   "execution_count": 4,
   "metadata": {},
   "outputs": [
    {
     "name": "stdout",
     "output_type": "stream",
     "text": [
      "['__class__', '__delattr__', '__dict__', '__dir__', '__doc__', '__eq__', '__format__', '__ge__', '__getattribute__', '__getstate__', '__gt__', '__hash__', '__init__', '__init_subclass__', '__le__', '__lt__', '__module__', '__ne__', '__new__', '__reduce__', '__reduce_ex__', '__repr__', '__setattr__', '__sizeof__', '__str__', '__subclasshook__', '__weakref__', '_company', '_details']\n",
      "['__class__', '__delattr__', '__dict__', '__dir__', '__doc__', '__eq__', '__format__', '__ge__', '__getattribute__', '__getstate__', '__gt__', '__hash__', '__init__', '__init_subclass__', '__le__', '__lt__', '__module__', '__ne__', '__new__', '__reduce__', '__reduce_ex__', '__repr__', '__setattr__', '__sizeof__', '__str__', '__subclasshook__', '__weakref__', '_company', '_details']\n"
     ]
    }
   ],
   "source": [
    "# dir & __dict__ 확인\n",
    "print(dir(car1))\n",
    "print(dir(car2))\n"
   ]
  },
  {
   "cell_type": "code",
   "execution_count": 5,
   "metadata": {},
   "outputs": [
    {
     "name": "stdout",
     "output_type": "stream",
     "text": [
      "{'_company': 'ferrari', '_details': {'color': 'white', 'horsepower': 400, 'price': 8000}}\n",
      "{'_company': 'bmw', '_details': {'color': 'black', 'horsepower': 270, 'price': 5000}}\n"
     ]
    }
   ],
   "source": [
    "print(car1.__dict__)\n",
    "print(car2.__dict__)"
   ]
  },
  {
   "cell_type": "code",
   "execution_count": 8,
   "metadata": {},
   "outputs": [
    {
     "name": "stdout",
     "output_type": "stream",
     "text": [
      "\n",
      "    Car class\n",
      "    Author : JI\n",
      "    Date : 2025.01.30\n",
      "    \n"
     ]
    }
   ],
   "source": [
    "# Doctring\n",
    "print(Car.__doc__)"
   ]
  },
  {
   "cell_type": "code",
   "execution_count": 12,
   "metadata": {},
   "outputs": [
    {
     "name": "stdout",
     "output_type": "stream",
     "text": [
      "Current ID : 4358194448\n",
      "Car Detail Info : ferrari 8000\n",
      "Current ID : 4358202640\n",
      "Car Detail Info : bmw 5000\n"
     ]
    }
   ],
   "source": [
    "# 실행\n",
    "car1.detail_info()\n",
    "car2.detail_info()"
   ]
  },
  {
   "cell_type": "code",
   "execution_count": 16,
   "metadata": {},
   "outputs": [
    {
     "name": "stdout",
     "output_type": "stream",
     "text": [
      "<class '__main__.Car'> <class '__main__.Car'>\n",
      "4355992640 4355992640 4355992640\n"
     ]
    }
   ],
   "source": [
    "# 비교\n",
    "print(car1.__class__,car2.__class__)\n",
    "print(id(car1.__class__),id(car2.__class__),id(car3.__class__))\n",
    "\n",
    "# id값이 동일한 이유는 부모클래스의 id주소를 불러오는 것이기 때문이다."
   ]
  },
  {
   "cell_type": "code",
   "execution_count": 17,
   "metadata": {},
   "outputs": [
    {
     "ename": "TypeError",
     "evalue": "Car.detail_info() missing 1 required positional argument: 'self'",
     "output_type": "error",
     "traceback": [
      "\u001b[0;31m---------------------------------------------------------------------------\u001b[0m",
      "\u001b[0;31mTypeError\u001b[0m                                 Traceback (most recent call last)",
      "\u001b[1;32m/Users/jimincheol/python/Study_Python_Master/class_method(2).ipynb Cell 9\u001b[0m line \u001b[0;36m2\n\u001b[1;32m      <a href='vscode-notebook-cell:/Users/jimincheol/python/Study_Python_Master/class_method%282%29.ipynb#X11sZmlsZQ%3D%3D?line=0'>1</a>\u001b[0m \u001b[39m# 에러\u001b[39;00m\n\u001b[0;32m----> <a href='vscode-notebook-cell:/Users/jimincheol/python/Study_Python_Master/class_method%282%29.ipynb#X11sZmlsZQ%3D%3D?line=1'>2</a>\u001b[0m Car\u001b[39m.\u001b[39;49mdetail_info()\n",
      "\u001b[0;31mTypeError\u001b[0m: Car.detail_info() missing 1 required positional argument: 'self'"
     ]
    }
   ],
   "source": [
    "# 에러\n",
    "Car.detail_info()"
   ]
  },
  {
   "cell_type": "code",
   "execution_count": 18,
   "metadata": {},
   "outputs": [
    {
     "name": "stdout",
     "output_type": "stream",
     "text": [
      "Current ID : 4358198480\n",
      "Car Detail Info : audi 6000\n"
     ]
    }
   ],
   "source": [
    "Car.detail_info(car3)"
   ]
  },
  {
   "cell_type": "code",
   "execution_count": 24,
   "metadata": {},
   "outputs": [
    {
     "name": "stdout",
     "output_type": "stream",
     "text": [
      "{'_company': 'ferrari', '_details': {'color': 'white', 'horsepower': 400, 'price': 8000}}\n",
      "['__class__', '__delattr__', '__dict__', '__dir__', '__doc__', '__eq__', '__format__', '__ge__', '__getattribute__', '__getstate__', '__gt__', '__hash__', '__init__', '__init_subclass__', '__le__', '__lt__', '__module__', '__ne__', '__new__', '__reduce__', '__reduce_ex__', '__repr__', '__setattr__', '__sizeof__', '__str__', '__subclasshook__', '__weakref__', '_company', '_details', 'car_count', 'detail_info']\n"
     ]
    }
   ],
   "source": [
    "# 공유 확인\n",
    "print(car1.__dict__)\n",
    "print(dir(car1))"
   ]
  },
  {
   "cell_type": "code",
   "execution_count": 25,
   "metadata": {},
   "outputs": [
    {
     "name": "stdout",
     "output_type": "stream",
     "text": [
      "3\n",
      "3\n"
     ]
    }
   ],
   "source": [
    "# 접근\n",
    "print(car1.car_count)\n",
    "print(Car.car_count)"
   ]
  },
  {
   "cell_type": "code",
   "execution_count": 28,
   "metadata": {},
   "outputs": [
    {
     "name": "stdout",
     "output_type": "stream",
     "text": [
      "del??\n",
      "2\n"
     ]
    }
   ],
   "source": [
    "# 삭제\n",
    "del car2\n",
    "print(Car.car_count)"
   ]
  },
  {
   "cell_type": "code",
   "execution_count": null,
   "metadata": {},
   "outputs": [],
   "source": [
    "# 인스턴스 네임스페이스에 없으면 상위에서 검색\n",
    "# 즉, 동일한 이름으로 변수 생성 가능 (인스턴스 검색 후 -> 상위 (클래스 변수, 부모클래스 변수))"
   ]
  }
 ],
 "metadata": {
  "kernelspec": {
   "display_name": "Python 3",
   "language": "python",
   "name": "python3"
  },
  "language_info": {
   "codemirror_mode": {
    "name": "ipython",
    "version": 3
   },
   "file_extension": ".py",
   "mimetype": "text/x-python",
   "name": "python",
   "nbconvert_exporter": "python",
   "pygments_lexer": "ipython3",
   "version": "3.11.8"
  }
 },
 "nbformat": 4,
 "nbformat_minor": 2
}
