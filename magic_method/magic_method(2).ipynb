{
 "cells": [
  {
   "cell_type": "code",
   "execution_count": 19,
   "metadata": {},
   "outputs": [],
   "source": [
    "# 클래스 예제 (2)\n",
    "# 백터 (x,y) (5,2)\n",
    "# (5,2) + (4,3) = (9,5)\n",
    "\n",
    "class Vector(object):\n",
    "    def __init__(self, *args):\n",
    "        '''\n",
    "        Create a vector, example : v = Vecter(5,10)\n",
    "        '''\n",
    "        if len(args) == 0:\n",
    "            self._x, self._y = 0, 0\n",
    "        else :\n",
    "            self._x, self._y = args\n",
    "\n",
    "    def __repr__(self):\n",
    "        '''\n",
    "        Return the vector informations.\n",
    "        '''\n",
    "        return 'Vector(%r,%r)' % (self._x,self._y)\n",
    "\n",
    "    def __add__(self, other):\n",
    "        '''\n",
    "        Return the vector addition of self and other\n",
    "        '''\n",
    "        return Vector(self._x + other._x, self._y + other._y)\n",
    "\n",
    "    def __mul__(self, y):\n",
    "        '''\n",
    "        Return the vector multiplication of self and y\n",
    "        '''\n",
    "        return Vector(self._x*y, self._y*y)\n",
    "    \n",
    "    def __bool__(self):\n",
    "        '''\n",
    "        Return the vector if max(x,y) > 0 : True, not for False\n",
    "        '''\n",
    "        return bool(max(self._x, self._y))"
   ]
  },
  {
   "cell_type": "code",
   "execution_count": 21,
   "metadata": {},
   "outputs": [],
   "source": [
    "v1 = Vector(5,7)\n",
    "v2 = Vector(23,35)\n",
    "v3 = Vector()"
   ]
  },
  {
   "cell_type": "code",
   "execution_count": 22,
   "metadata": {},
   "outputs": [
    {
     "name": "stdout",
     "output_type": "stream",
     "text": [
      "\n",
      "        Create a vector, example : v = Vecter(5,10)\n",
      "        \n",
      "\n",
      "        Return the vector addition of self and other\n",
      "        \n",
      "\n",
      "        Return the vector multiplication of self and y\n",
      "        \n",
      "\n",
      "        Return the vector if max(x,y) > 0 : True, not for False\n",
      "        \n"
     ]
    }
   ],
   "source": [
    "print(Vector.__init__.__doc__)\n",
    "print(Vector.__add__.__doc__)\n",
    "print(Vector.__mul__.__doc__)\n",
    "print(Vector.__bool__.__doc__)"
   ]
  },
  {
   "cell_type": "code",
   "execution_count": 23,
   "metadata": {},
   "outputs": [
    {
     "name": "stdout",
     "output_type": "stream",
     "text": [
      "Vector(5,7) Vector(23,35) Vector(0,0)\n",
      "Vector(28,42)\n"
     ]
    }
   ],
   "source": [
    "print(v1, v2, v3)\n",
    "print(v1 + v2)"
   ]
  },
  {
   "cell_type": "code",
   "execution_count": 26,
   "metadata": {},
   "outputs": [
    {
     "name": "stdout",
     "output_type": "stream",
     "text": [
      "Vector(15,21)\n",
      "Vector(230,350)\n",
      "True True False\n"
     ]
    }
   ],
   "source": [
    "print(v1*3)\n",
    "print(v2*10)\n",
    "print(bool(v1),bool(v2),bool(v3))"
   ]
  },
  {
   "cell_type": "code",
   "execution_count": null,
   "metadata": {},
   "outputs": [],
   "source": []
  }
 ],
 "metadata": {
  "kernelspec": {
   "display_name": "Python 3",
   "language": "python",
   "name": "python3"
  },
  "language_info": {
   "codemirror_mode": {
    "name": "ipython",
    "version": 3
   },
   "file_extension": ".py",
   "mimetype": "text/x-python",
   "name": "python",
   "nbconvert_exporter": "python",
   "pygments_lexer": "ipython3",
   "version": "3.11.8"
  }
 },
 "nbformat": 4,
 "nbformat_minor": 2
}
