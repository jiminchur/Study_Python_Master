{
 "cells": [
  {
   "cell_type": "code",
   "execution_count": 19,
   "metadata": {},
   "outputs": [],
   "source": [
    "# Chapter03-03\n",
    "# 파이썬 심화\n",
    "# 데이터 모델(Data Model)\n",
    "# 참조 : https://docs.python.org/3/reference/datamodel.html\n",
    "# Namedtuple 실습\n",
    "# 파이썬의 중요한 핵심 프레임워크 -> 시퀀스(Sequence), 반복(Iterator), 함수(Functions), 클래스(Class)"
   ]
  },
  {
   "cell_type": "code",
   "execution_count": 1,
   "metadata": {},
   "outputs": [],
   "source": [
    "# 객체 -> 파이썬의 데이터를 추상화\n",
    "# 모든 객체 -> id, type -> value\n",
    "\n",
    "# 일반적인 튜플 사용\n",
    "pt1 = (1.0, 5.0)\n",
    "pt2 = (2.5, 1.5)"
   ]
  },
  {
   "cell_type": "code",
   "execution_count": 2,
   "metadata": {},
   "outputs": [
    {
     "name": "stdout",
     "output_type": "stream",
     "text": [
      "3.8078865529319543\n"
     ]
    }
   ],
   "source": [
    "from math import sqrt\n",
    "\n",
    "l_leng1 = sqrt((pt2[0] - pt1[0]) ** 2 + (pt2[1] - pt1[1]) ** 2)\n",
    "\n",
    "print(l_leng1)"
   ]
  },
  {
   "cell_type": "code",
   "execution_count": 3,
   "metadata": {},
   "outputs": [],
   "source": [
    "# 네임드 튜플 사용\n",
    "from collections import namedtuple\n",
    "\n",
    "# 네임드 튜플 선언\n",
    "Point = namedtuple('Point', 'x y')\n",
    "\n",
    "# 두 점 선언\n",
    "pt3 = Point(1.0, 5.0)\n",
    "pt4 = Point(2.5, 1.5)"
   ]
  },
  {
   "cell_type": "code",
   "execution_count": 4,
   "metadata": {},
   "outputs": [
    {
     "name": "stdout",
     "output_type": "stream",
     "text": [
      "3.8078865529319543\n",
      "True\n"
     ]
    }
   ],
   "source": [
    "# 계산\n",
    "l_leng2 = sqrt((pt4.x - pt3.x) ** 2 + (pt4.y - pt3.y) ** 2)\n",
    "\n",
    "# 출력\n",
    "print(l_leng2)\n",
    "print(l_leng1 == l_leng2)"
   ]
  },
  {
   "cell_type": "code",
   "execution_count": 5,
   "metadata": {},
   "outputs": [
    {
     "name": "stdout",
     "output_type": "stream",
     "text": [
      "<class '__main__.Point'> <class '__main__.Point'> <class '__main__.Point'> <class '__main__.Point'>\n"
     ]
    }
   ],
   "source": [
    "# 네임드 튜플 선언 방법\n",
    "Point1 = namedtuple('Point', ['x', 'y'])\n",
    "Point2 = namedtuple('Point', 'x, y')\n",
    "Point3 = namedtuple('Point', 'x y')\n",
    "Point4 = namedtuple('Point', 'x y x class', rename=True) # Default=False\n",
    "\n",
    "# 출력\n",
    "print(Point1, Point2, Point3, Point4)"
   ]
  },
  {
   "cell_type": "code",
   "execution_count": 6,
   "metadata": {},
   "outputs": [],
   "source": [
    "# Dict to Unpacking\n",
    "temp_dict = {'x': 75, 'y': 55}"
   ]
  },
  {
   "cell_type": "code",
   "execution_count": 8,
   "metadata": {},
   "outputs": [
    {
     "name": "stdout",
     "output_type": "stream",
     "text": [
      "Point(x=10, y=35) Point(x=20, y=40) Point(x=45, y=20) Point(x=10, y=20, _2=30, _3=40) Point(x=75, y=55)\n"
     ]
    }
   ],
   "source": [
    "# 객체 생성\n",
    "p1 = Point1(x=10, y=35)\n",
    "p2 = Point2(20, 40)\n",
    "p3 = Point3(45, y=20)\n",
    "p4 = Point4(10, 20, 30, 40)\n",
    "p5 = Point3(**temp_dict)\n",
    "\n",
    "# 출력\n",
    "print(p1, p2, p3, p4, p5)"
   ]
  },
  {
   "cell_type": "code",
   "execution_count": 9,
   "metadata": {},
   "outputs": [
    {
     "name": "stdout",
     "output_type": "stream",
     "text": [
      "50\n",
      "50\n"
     ]
    }
   ],
   "source": [
    "# 사용\n",
    "print(p1[0] + p2[1]) # Index Error 주의\n",
    "print(p1.x + p2.y) # 클래스 변수 접근 방식"
   ]
  },
  {
   "cell_type": "code",
   "execution_count": 14,
   "metadata": {},
   "outputs": [
    {
     "name": "stdout",
     "output_type": "stream",
     "text": [
      "65\n"
     ]
    }
   ],
   "source": [
    "# Unpacking\n",
    "x, y = p3\n",
    "\n",
    "print(x+y)"
   ]
  },
  {
   "cell_type": "code",
   "execution_count": 13,
   "metadata": {},
   "outputs": [
    {
     "name": "stdout",
     "output_type": "stream",
     "text": [
      "Point(x=10, y=20, _2=30, _3=40)\n",
      "Point(x=52, y=38)\n"
     ]
    }
   ],
   "source": [
    "# Rename 테스트\n",
    "print(p4)\n",
    "\n",
    "# 네임드 튜플 메소드\n",
    "temp = [52, 38] \n",
    "\n",
    "# _make() : 새로운 객체 생성\n",
    "p4 = Point1._make(temp)\n",
    "\n",
    "print(p4)"
   ]
  },
  {
   "cell_type": "code",
   "execution_count": 15,
   "metadata": {},
   "outputs": [
    {
     "name": "stdout",
     "output_type": "stream",
     "text": [
      "('x', 'y') ('x', 'y') ('x', 'y')\n",
      "{'x': 10, 'y': 35} {'x': 52, 'y': 38}\n"
     ]
    }
   ],
   "source": [
    "# _fields : 필드 네임 확인\n",
    "print(p1._fields, p2._fields, p3._fields)\n",
    "\n",
    "# _asdict() : OrderedDict 반환\n",
    "print(p1._asdict(), p4._asdict())"
   ]
  },
  {
   "cell_type": "code",
   "execution_count": 16,
   "metadata": {},
   "outputs": [],
   "source": [
    "# 실 사용 실습\n",
    "# 반20명 , 4개의 반-> (A,B,C,D) 번호\n",
    "\n",
    "# 네임드 튜플 선언\n",
    "Classes = namedtuple('Classes', ['rank', 'number'])\n",
    "\n",
    "# 그룹 리스트 선언\n",
    "numbers = [str(n) for n in range(1, 21)]\n",
    "ranks = 'A B C D'.split()"
   ]
  },
  {
   "cell_type": "code",
   "execution_count": 17,
   "metadata": {},
   "outputs": [
    {
     "name": "stdout",
     "output_type": "stream",
     "text": [
      "['1', '2', '3', '4', '5', '6', '7', '8', '9', '10', '11', '12', '13', '14', '15', '16', '17', '18', '19', '20'] ['A', 'B', 'C', 'D']\n"
     ]
    }
   ],
   "source": [
    "print(numbers,ranks)"
   ]
  },
  {
   "cell_type": "code",
   "execution_count": 18,
   "metadata": {},
   "outputs": [
    {
     "name": "stdout",
     "output_type": "stream",
     "text": [
      "80\n",
      "[Classes(rank='A', number='1'), Classes(rank='A', number='2'), Classes(rank='A', number='3'), Classes(rank='A', number='4'), Classes(rank='A', number='5'), Classes(rank='A', number='6'), Classes(rank='A', number='7'), Classes(rank='A', number='8'), Classes(rank='A', number='9'), Classes(rank='A', number='10'), Classes(rank='A', number='11'), Classes(rank='A', number='12'), Classes(rank='A', number='13'), Classes(rank='A', number='14'), Classes(rank='A', number='15'), Classes(rank='A', number='16'), Classes(rank='A', number='17'), Classes(rank='A', number='18'), Classes(rank='A', number='19'), Classes(rank='A', number='20'), Classes(rank='B', number='1'), Classes(rank='B', number='2'), Classes(rank='B', number='3'), Classes(rank='B', number='4'), Classes(rank='B', number='5'), Classes(rank='B', number='6'), Classes(rank='B', number='7'), Classes(rank='B', number='8'), Classes(rank='B', number='9'), Classes(rank='B', number='10'), Classes(rank='B', number='11'), Classes(rank='B', number='12'), Classes(rank='B', number='13'), Classes(rank='B', number='14'), Classes(rank='B', number='15'), Classes(rank='B', number='16'), Classes(rank='B', number='17'), Classes(rank='B', number='18'), Classes(rank='B', number='19'), Classes(rank='B', number='20'), Classes(rank='C', number='1'), Classes(rank='C', number='2'), Classes(rank='C', number='3'), Classes(rank='C', number='4'), Classes(rank='C', number='5'), Classes(rank='C', number='6'), Classes(rank='C', number='7'), Classes(rank='C', number='8'), Classes(rank='C', number='9'), Classes(rank='C', number='10'), Classes(rank='C', number='11'), Classes(rank='C', number='12'), Classes(rank='C', number='13'), Classes(rank='C', number='14'), Classes(rank='C', number='15'), Classes(rank='C', number='16'), Classes(rank='C', number='17'), Classes(rank='C', number='18'), Classes(rank='C', number='19'), Classes(rank='C', number='20'), Classes(rank='D', number='1'), Classes(rank='D', number='2'), Classes(rank='D', number='3'), Classes(rank='D', number='4'), Classes(rank='D', number='5'), Classes(rank='D', number='6'), Classes(rank='D', number='7'), Classes(rank='D', number='8'), Classes(rank='D', number='9'), Classes(rank='D', number='10'), Classes(rank='D', number='11'), Classes(rank='D', number='12'), Classes(rank='D', number='13'), Classes(rank='D', number='14'), Classes(rank='D', number='15'), Classes(rank='D', number='16'), Classes(rank='D', number='17'), Classes(rank='D', number='18'), Classes(rank='D', number='19'), Classes(rank='D', number='20')]\n"
     ]
    }
   ],
   "source": [
    "# List Comprehension\n",
    "students = [Classes(rank, number) for rank in ranks for number in numbers]\n",
    "\n",
    "print(len(students))\n",
    "print(students)"
   ]
  },
  {
   "cell_type": "code",
   "execution_count": 20,
   "metadata": {},
   "outputs": [
    {
     "name": "stdout",
     "output_type": "stream",
     "text": [
      "80\n",
      "[Classes(rank='A', number='1'), Classes(rank='A', number='2'), Classes(rank='A', number='3'), Classes(rank='A', number='4'), Classes(rank='A', number='5'), Classes(rank='A', number='6'), Classes(rank='A', number='7'), Classes(rank='A', number='8'), Classes(rank='A', number='9'), Classes(rank='A', number='10'), Classes(rank='A', number='11'), Classes(rank='A', number='12'), Classes(rank='A', number='13'), Classes(rank='A', number='14'), Classes(rank='A', number='15'), Classes(rank='A', number='16'), Classes(rank='A', number='17'), Classes(rank='A', number='18'), Classes(rank='A', number='19'), Classes(rank='A', number='20'), Classes(rank='B', number='1'), Classes(rank='B', number='2'), Classes(rank='B', number='3'), Classes(rank='B', number='4'), Classes(rank='B', number='5'), Classes(rank='B', number='6'), Classes(rank='B', number='7'), Classes(rank='B', number='8'), Classes(rank='B', number='9'), Classes(rank='B', number='10'), Classes(rank='B', number='11'), Classes(rank='B', number='12'), Classes(rank='B', number='13'), Classes(rank='B', number='14'), Classes(rank='B', number='15'), Classes(rank='B', number='16'), Classes(rank='B', number='17'), Classes(rank='B', number='18'), Classes(rank='B', number='19'), Classes(rank='B', number='20'), Classes(rank='C', number='1'), Classes(rank='C', number='2'), Classes(rank='C', number='3'), Classes(rank='C', number='4'), Classes(rank='C', number='5'), Classes(rank='C', number='6'), Classes(rank='C', number='7'), Classes(rank='C', number='8'), Classes(rank='C', number='9'), Classes(rank='C', number='10'), Classes(rank='C', number='11'), Classes(rank='C', number='12'), Classes(rank='C', number='13'), Classes(rank='C', number='14'), Classes(rank='C', number='15'), Classes(rank='C', number='16'), Classes(rank='C', number='17'), Classes(rank='C', number='18'), Classes(rank='C', number='19'), Classes(rank='C', number='20'), Classes(rank='D', number='1'), Classes(rank='D', number='2'), Classes(rank='D', number='3'), Classes(rank='D', number='4'), Classes(rank='D', number='5'), Classes(rank='D', number='6'), Classes(rank='D', number='7'), Classes(rank='D', number='8'), Classes(rank='D', number='9'), Classes(rank='D', number='10'), Classes(rank='D', number='11'), Classes(rank='D', number='12'), Classes(rank='D', number='13'), Classes(rank='D', number='14'), Classes(rank='D', number='15'), Classes(rank='D', number='16'), Classes(rank='D', number='17'), Classes(rank='D', number='18'), Classes(rank='D', number='19'), Classes(rank='D', number='20')]\n"
     ]
    }
   ],
   "source": [
    "# 추천\n",
    "students2 = [Classes(rank, number) \n",
    "                    for rank in 'A B C D'.split() \n",
    "                        for number in [str(n) \n",
    "                            for n in range(1,21)]]\n",
    "\n",
    "print(len(students2))\n",
    "print(students2)"
   ]
  },
  {
   "cell_type": "code",
   "execution_count": 21,
   "metadata": {},
   "outputs": [
    {
     "name": "stdout",
     "output_type": "stream",
     "text": [
      "Classes(rank='A', number='1')\n",
      "Classes(rank='A', number='2')\n",
      "Classes(rank='A', number='3')\n",
      "Classes(rank='A', number='4')\n",
      "Classes(rank='A', number='5')\n",
      "Classes(rank='A', number='6')\n",
      "Classes(rank='A', number='7')\n",
      "Classes(rank='A', number='8')\n",
      "Classes(rank='A', number='9')\n",
      "Classes(rank='A', number='10')\n",
      "Classes(rank='A', number='11')\n",
      "Classes(rank='A', number='12')\n",
      "Classes(rank='A', number='13')\n",
      "Classes(rank='A', number='14')\n",
      "Classes(rank='A', number='15')\n",
      "Classes(rank='A', number='16')\n",
      "Classes(rank='A', number='17')\n",
      "Classes(rank='A', number='18')\n",
      "Classes(rank='A', number='19')\n",
      "Classes(rank='A', number='20')\n",
      "Classes(rank='B', number='1')\n",
      "Classes(rank='B', number='2')\n",
      "Classes(rank='B', number='3')\n",
      "Classes(rank='B', number='4')\n",
      "Classes(rank='B', number='5')\n",
      "Classes(rank='B', number='6')\n",
      "Classes(rank='B', number='7')\n",
      "Classes(rank='B', number='8')\n",
      "Classes(rank='B', number='9')\n",
      "Classes(rank='B', number='10')\n",
      "Classes(rank='B', number='11')\n",
      "Classes(rank='B', number='12')\n",
      "Classes(rank='B', number='13')\n",
      "Classes(rank='B', number='14')\n",
      "Classes(rank='B', number='15')\n",
      "Classes(rank='B', number='16')\n",
      "Classes(rank='B', number='17')\n",
      "Classes(rank='B', number='18')\n",
      "Classes(rank='B', number='19')\n",
      "Classes(rank='B', number='20')\n",
      "Classes(rank='C', number='1')\n",
      "Classes(rank='C', number='2')\n",
      "Classes(rank='C', number='3')\n",
      "Classes(rank='C', number='4')\n",
      "Classes(rank='C', number='5')\n",
      "Classes(rank='C', number='6')\n",
      "Classes(rank='C', number='7')\n",
      "Classes(rank='C', number='8')\n",
      "Classes(rank='C', number='9')\n",
      "Classes(rank='C', number='10')\n",
      "Classes(rank='C', number='11')\n",
      "Classes(rank='C', number='12')\n",
      "Classes(rank='C', number='13')\n",
      "Classes(rank='C', number='14')\n",
      "Classes(rank='C', number='15')\n",
      "Classes(rank='C', number='16')\n",
      "Classes(rank='C', number='17')\n",
      "Classes(rank='C', number='18')\n",
      "Classes(rank='C', number='19')\n",
      "Classes(rank='C', number='20')\n",
      "Classes(rank='D', number='1')\n",
      "Classes(rank='D', number='2')\n",
      "Classes(rank='D', number='3')\n",
      "Classes(rank='D', number='4')\n",
      "Classes(rank='D', number='5')\n",
      "Classes(rank='D', number='6')\n",
      "Classes(rank='D', number='7')\n",
      "Classes(rank='D', number='8')\n",
      "Classes(rank='D', number='9')\n",
      "Classes(rank='D', number='10')\n",
      "Classes(rank='D', number='11')\n",
      "Classes(rank='D', number='12')\n",
      "Classes(rank='D', number='13')\n",
      "Classes(rank='D', number='14')\n",
      "Classes(rank='D', number='15')\n",
      "Classes(rank='D', number='16')\n",
      "Classes(rank='D', number='17')\n",
      "Classes(rank='D', number='18')\n",
      "Classes(rank='D', number='19')\n",
      "Classes(rank='D', number='20')\n"
     ]
    }
   ],
   "source": [
    "# 출력\n",
    "for s in students:\n",
    "    print(s)"
   ]
  }
 ],
 "metadata": {
  "kernelspec": {
   "display_name": "Python 3",
   "language": "python",
   "name": "python3"
  },
  "language_info": {
   "codemirror_mode": {
    "name": "ipython",
    "version": 3
   },
   "file_extension": ".py",
   "mimetype": "text/x-python",
   "name": "python",
   "nbconvert_exporter": "python",
   "pygments_lexer": "ipython3",
   "version": "3.11.8"
  }
 },
 "nbformat": 4,
 "nbformat_minor": 2
}
