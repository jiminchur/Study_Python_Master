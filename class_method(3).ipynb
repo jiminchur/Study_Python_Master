{
 "cells": [
  {
   "cell_type": "code",
   "execution_count": 16,
   "metadata": {},
   "outputs": [],
   "source": [
    "# 클래스 구조\n",
    "# 구조 설계 후 재사용성 증가, 코드 반복 최소화, 메소드 활용\n",
    "class Car():\n",
    "    \"\"\"\n",
    "    Car class\n",
    "    Author : JI\n",
    "    Date : 2025.01.30\n",
    "    Description : Class, Static, Instance Method\n",
    "    \"\"\"\n",
    "\n",
    "    # 클래스 변수 (모든 인스턴스가 공유)\n",
    "    price_per_raise = 1.0\n",
    "\n",
    "    def __init__(self, company, details):\n",
    "        self._company = company\n",
    "        self._details = details\n",
    "\n",
    "    # 사용자 레벨\n",
    "    def __str__(self):\n",
    "        return 'str : {} - {}'.format(self._company,self._details)\n",
    "    \n",
    "    # 개발자 레벨\n",
    "    def __repr__(self):\n",
    "        return 'repr : {} - {}'.format(self._company,self._details)\n",
    "\n",
    "    # Instance Method\n",
    "    # self : 객체의 고유한 속성 값을 사용\n",
    "    def detail_info(self):\n",
    "        print(\"Current ID : {}\".format(id(self)))\n",
    "        print(\"Car Detail Info : {} {}\".format(self._company, self._details.get('price')))\n",
    "\n",
    "    # Instance Method\n",
    "    def get_price(self):\n",
    "        return 'Before Car Price -> company : {}, price : {}'.format(self._company, self._details.get('price'))\n",
    "    \n",
    "    # Instance Method\n",
    "    def get_price_culc(self):\n",
    "        return 'After Car Price -> company : {}, price : {}'.format(self._company, self._details.get('price') * Car.price_per_raise)\n",
    "\n",
    "    # Class Method\n",
    "    @classmethod\n",
    "    def raise_price(cls,per):\n",
    "        if per <= 1:\n",
    "            print('Please Enter 1 Or More')\n",
    "            return\n",
    "        cls.price_per_raise = per\n",
    "        print('Succeed! price increased')\n",
    "\n",
    "    # static Method\n",
    "    @staticmethod\n",
    "    def is_bmw(inst):\n",
    "        if inst._company == \"bmw\":\n",
    "            return 'ok! This car is {}'.format(inst._company)\n",
    "        return 'sorry. This car is not bmw'\n",
    "\n",
    "car1 = Car('ferrari',{'color' : 'white','horsepower' : 400 ,'price' : 8000})\n",
    "car2 = Car('bmw',{'color' : 'black','horsepower' : 270,'price' : 5000})\n",
    "car3 = Car('audi',{'color' : 'silver','horsepower' : 300,'price' : 6000})"
   ]
  },
  {
   "cell_type": "code",
   "execution_count": 3,
   "metadata": {},
   "outputs": [
    {
     "name": "stdout",
     "output_type": "stream",
     "text": [
      "Current ID : 4382822800\n",
      "Car Detail Info : ferrari 8000\n",
      "Current ID : 4382817232\n",
      "Car Detail Info : bmw 5000\n"
     ]
    }
   ],
   "source": [
    "# 전체 정보\n",
    "car1.detail_info()\n",
    "car2.detail_info()"
   ]
  },
  {
   "cell_type": "code",
   "execution_count": 5,
   "metadata": {},
   "outputs": [
    {
     "name": "stdout",
     "output_type": "stream",
     "text": [
      "8000\n",
      "8000\n"
     ]
    }
   ],
   "source": [
    "# 가격 정보 (직접 접근)\n",
    "# 좋지 못한 방법\n",
    "print(car1._details.get('price'))\n",
    "print(car1._details['price'])"
   ]
  },
  {
   "cell_type": "code",
   "execution_count": 15,
   "metadata": {},
   "outputs": [
    {
     "name": "stdout",
     "output_type": "stream",
     "text": [
      "Before Car Price -> company : ferrari, price : 8000\n",
      "Before Car Price -> company : bmw, price : 5000\n"
     ]
    }
   ],
   "source": [
    "# 가격정보 (인상전)\n",
    "print(car1.get_price())\n",
    "print(car2.get_price())"
   ]
  },
  {
   "cell_type": "code",
   "execution_count": 10,
   "metadata": {},
   "outputs": [
    {
     "name": "stdout",
     "output_type": "stream",
     "text": [
      "After Car Price -> company : ferrari, price : 11200.0\n",
      "After Car Price -> company : bmw, price : 7000.0\n"
     ]
    }
   ],
   "source": [
    "# 가격 인상(클래스 매서드 미사용)\n",
    "Car.price_per_raise = 1.4\n",
    "\n",
    "# 가격정보 (인상후)\n",
    "print(car1.get_price_culc())\n",
    "print(car2.get_price_culc())"
   ]
  },
  {
   "cell_type": "code",
   "execution_count": 13,
   "metadata": {},
   "outputs": [
    {
     "name": "stdout",
     "output_type": "stream",
     "text": [
      "Succeed! price increased\n"
     ]
    }
   ],
   "source": [
    "# 가격 인상(클래스 매서드 사용)\n",
    "Car.raise_price(1.6)"
   ]
  },
  {
   "cell_type": "code",
   "execution_count": 14,
   "metadata": {},
   "outputs": [
    {
     "name": "stdout",
     "output_type": "stream",
     "text": [
      "After Car Price -> company : ferrari, price : 12800.0\n",
      "After Car Price -> company : bmw, price : 8000.0\n"
     ]
    }
   ],
   "source": [
    "# 가격정보 (인상후)\n",
    "print(car1.get_price_culc())\n",
    "print(car2.get_price_culc())"
   ]
  },
  {
   "cell_type": "code",
   "execution_count": 17,
   "metadata": {},
   "outputs": [
    {
     "name": "stdout",
     "output_type": "stream",
     "text": [
      "sorry. This car is not bmw\n",
      "ok! This car is bmw\n"
     ]
    }
   ],
   "source": [
    "# 인스턴스로 호출(스테이틱)\n",
    "print(car1.is_bmw(car1))\n",
    "print(car2.is_bmw(car2))"
   ]
  },
  {
   "cell_type": "code",
   "execution_count": 18,
   "metadata": {},
   "outputs": [
    {
     "name": "stdout",
     "output_type": "stream",
     "text": [
      "sorry. This car is not bmw\n",
      "ok! This car is bmw\n"
     ]
    }
   ],
   "source": [
    "# 클래스로 호출(스테이틱)\n",
    "print(Car.is_bmw(car1))\n",
    "print(Car.is_bmw(car2))"
   ]
  },
  {
   "cell_type": "code",
   "execution_count": null,
   "metadata": {},
   "outputs": [],
   "source": []
  }
 ],
 "metadata": {
  "kernelspec": {
   "display_name": "Python 3",
   "language": "python",
   "name": "python3"
  },
  "language_info": {
   "codemirror_mode": {
    "name": "ipython",
    "version": 3
   },
   "file_extension": ".py",
   "mimetype": "text/x-python",
   "name": "python",
   "nbconvert_exporter": "python",
   "pygments_lexer": "ipython3",
   "version": "3.11.8"
  }
 },
 "nbformat": 4,
 "nbformat_minor": 2
}
